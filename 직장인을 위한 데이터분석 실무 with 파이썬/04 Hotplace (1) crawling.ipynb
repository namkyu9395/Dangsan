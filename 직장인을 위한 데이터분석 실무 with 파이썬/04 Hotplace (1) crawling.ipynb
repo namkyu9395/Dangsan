{
 "cells": [
  {
   "cell_type": "markdown",
   "metadata": {},
   "source": [
    "### 크롤링"
   ]
  },
  {
   "cell_type": "markdown",
   "metadata": {},
   "source": [
    "#### 인스타그램의 검색 결과 URL을 만드는 함수"
   ]
  },
  {
   "cell_type": "code",
   "execution_count": 1,
   "metadata": {},
   "outputs": [],
   "source": [
    "def insta_searching(word):\n",
    "    url = \"https://www.instagram.com/explore/tags/\" + word\n",
    "    return url"
   ]
  },
  {
   "cell_type": "markdown",
   "metadata": {},
   "source": [
    "#### 인스타그램에 로그인하는 함수"
   ]
  },
  {
   "cell_type": "code",
   "execution_count": 2,
   "metadata": {},
   "outputs": [],
   "source": [
    "def insta_login(email,password):\n",
    "    input_id = driver.find_elements_by_css_selector('input._2hvTZ.pexuQ.zyHYP')[0]\n",
    "    input_id.clear()\n",
    "    input_id.send_keys(email)\n",
    "    \n",
    "    input_pw = driver.find_elements_by_css_selector('input._2hvTZ.pexuQ.zyHYP')[1]\n",
    "    input_pw.clear()\n",
    "    input_pw.send_keys(password)\n",
    "    input_pw.submit()\n",
    "    time.sleep(3)\n",
    "    \n",
    "    save_info = driver.find_element_by_css_selector('#react-root > section > main > div > div > div > section > div > button')\n",
    "    save_info.click()\n",
    "    time.sleep(3)\n",
    "    \n",
    "    alarm = driver.find_element_by_css_selector('body > div.RnEpo.Yx5HN > div > div > div > div.mt3GC > button.aOOlW.HoLwm')\n",
    "    alarm.click()"
   ]
  },
  {
   "cell_type": "markdown",
   "metadata": {},
   "source": [
    "#### 첫번째 게시글 열기"
   ]
  },
  {
   "cell_type": "code",
   "execution_count": 3,
   "metadata": {},
   "outputs": [],
   "source": [
    "def select_first(driver):\n",
    "    \n",
    "    # find_element_by_css_selector : BeutifulSoup을 사용하지 않고 Selenium에서 직접 html에 접근하는 메쏘드\n",
    "    first = driver.find_element_by_css_selector('div._9AhH0')\n",
    "    \n",
    "    # 게시물 클릭\n",
    "    first.click()\n",
    "    \n",
    "    # 정보 로딩에 시간이 필요하므로 3초간 대기\n",
    "    time.sleep(3)"
   ]
  },
  {
   "cell_type": "markdown",
   "metadata": {},
   "source": [
    "#### 게시글 정보 가져오기"
   ]
  },
  {
   "cell_type": "code",
   "execution_count": 4,
   "metadata": {},
   "outputs": [],
   "source": [
    "# 정규 표현식을 위한 클래스\n",
    "import re\n",
    "\n",
    "def get_content(driver):\n",
    "    # 1. 현재 페이지의 HTML정보 가져오기\n",
    "    html = driver.page_source\n",
    "    soup = BeautifulSoup(html, 'lxml')\n",
    "    \n",
    "    # 2. 본문 내용 가져오기\n",
    "    try:\n",
    "        content = soup.select('div.C4VMK > span')[0].text\n",
    "    except:\n",
    "        content = ''\n",
    "        \n",
    "    # 3. 본문 내용에서 해시태그 가져오기(정규표현식 활용)\n",
    "    tags = re.findall(r'#[^\\s#,\\\\]+', content)\n",
    "    \n",
    "    # 4. 작성일자 정보 가져오기\n",
    "    date = soup.select('time.FH9sR.Nzb55')[0]['datetime'][:10]\n",
    "    \n",
    "    # 5. 좋아요 수 가져오기\n",
    "    try:\n",
    "        like = soup.select('div.Nm9Fw > button')[0].text[4:-1]\n",
    "    except:\n",
    "        like = 0\n",
    "        \n",
    "    # 6. 위치정보 가져오기\n",
    "    try:\n",
    "        place = soup.select('div.JF9hh > a.O4GlU')[0].text\n",
    "    except:\n",
    "        place = ''\n",
    "    \n",
    "    # 7. 수집한 정보 저장하기\n",
    "    data = [content, date, like, place, tags]\n",
    "    return data"
   ]
  },
  {
   "cell_type": "code",
   "execution_count": 5,
   "metadata": {},
   "outputs": [],
   "source": [
    "# 다음 게시글을 여는 함수\n",
    "\n",
    "def move_next(driver):\n",
    "    right = driver.find_element_by_css_selector('a._65Bje.coreSpriteRightPaginationArrow')\n",
    "    right.click()\n",
    "    time.sleep(3)"
   ]
  },
  {
   "cell_type": "markdown",
   "metadata": {},
   "source": [
    "### 크롤링 과정 통합 함수"
   ]
  },
  {
   "cell_type": "code",
   "execution_count": 9,
   "metadata": {},
   "outputs": [
    {
     "name": "stdout",
     "output_type": "stream",
     "text": [
      "[['.가끔씩 찾아오는 고비 같은 것들이 있다. 계획이 무너지고, 지체가 되며 가진 자원이 소모가 될때. 김영하 작가는 주인공 캐릭터의 세가지 요소를 이렇게 말했다..1. 고통을 받는다2. 분명한 목표가 있다3. 일생에 중요한 기회가 주어진다.우리는 다 각자 인생의 주인공이니까 견디고, 목적을 향해 나가며, 기회를 잘 포착해야겠다. 그런데 주인공으로 사는건 참 피곤한 일이다.나한테 하는 말이기도 하고 너한테 하는 말이기도 해:)', '2020-07-10', '1,823', '백약이 오름', []], ['여름바다가 이렇게 좋을 줄이야', '2020-07-09', '637', 'Woljeongri Beach', []]]\n"
     ]
    }
   ],
   "source": [
    "from selenium import webdriver\n",
    "from bs4 import BeautifulSoup\n",
    "import time\n",
    "import re\n",
    "\n",
    "# 1. 크롬브라우저 열기\n",
    "driver = webdriver.Chrome('C:/Users/NK/Desktop/programming/python/chromedriver.exe')\n",
    "\n",
    "# 2. 인스타그램에 접속\n",
    "driver.get('https://www.instagram.com')\n",
    "time.sleep(2)\n",
    "\n",
    "# 3. 인스타그램 로그인\n",
    "email = '01038067982'\n",
    "pw = '!@nam9595'\n",
    "insta_login(email,pw)\n",
    "\n",
    "# 4. 인스타그램 검색페이지 URL 만들기\n",
    "word = '제주여행' # 검색어\n",
    "url = insta_searching(word)\n",
    "\n",
    "# 5. 검색페이지 접속하기\n",
    "driver.get(url)\n",
    "time.sleep(3)\n",
    "\n",
    "# 6. 첫 번째 게시글 열기\n",
    "select_first(driver)\n",
    "\n",
    "# 7. 비어있는 변수(results) 만들기\n",
    "results = []\n",
    "\n",
    "# 8. 여러 게시물 수집하기\n",
    "target = 100\n",
    "for i in range(target):\n",
    "    data = get_content(driver)\n",
    "    results.append(data)\n",
    "    move_next(driver)\n",
    "    \n",
    "print(results[:2])"
   ]
  },
  {
   "cell_type": "markdown",
   "metadata": {},
   "source": [
    "### 수집 데이터 저장"
   ]
  },
  {
   "cell_type": "code",
   "execution_count": 10,
   "metadata": {},
   "outputs": [],
   "source": [
    "import pandas as pd\n",
    "\n",
    "results_df = pd.DataFrame(results)\n",
    "results_df.columns = ['content', 'data', 'like', 'place', 'tags']\n",
    "results_df.to_excel('crawling_jejutravel.xlsx')"
   ]
  },
  {
   "cell_type": "markdown",
   "metadata": {},
   "source": [
    "### 여러 엑셀파일의 중복을 제거한 후 통합 저장"
   ]
  },
  {
   "cell_type": "code",
   "execution_count": 30,
   "metadata": {},
   "outputs": [],
   "source": [
    "# 여러 엑셀파일을 통합\n",
    "jeju_insta_df = pd.DataFrame([])\n",
    "\n",
    "folder = 'crawling_data/'\n",
    "f_list = ['crawling_jeju.xlsx', 'crawling_jejumat.xlsx', 'crawling_jejutravel.xlsx']\n",
    "\n",
    "for fname in f_list:\n",
    "    fpath = folder + fname\n",
    "    temp = pd.read_excel(fpath, usecols='B:F')\n",
    "    jeju_insta_df = jeju_insta_df.append(temp)"
   ]
  },
  {
   "cell_type": "code",
   "execution_count": 35,
   "metadata": {},
   "outputs": [
    {
     "data": {
      "text/html": [
       "<div>\n",
       "<style scoped>\n",
       "    .dataframe tbody tr th:only-of-type {\n",
       "        vertical-align: middle;\n",
       "    }\n",
       "\n",
       "    .dataframe tbody tr th {\n",
       "        vertical-align: top;\n",
       "    }\n",
       "\n",
       "    .dataframe thead th {\n",
       "        text-align: right;\n",
       "    }\n",
       "</style>\n",
       "<table border=\"1\" class=\"dataframe\">\n",
       "  <thead>\n",
       "    <tr style=\"text-align: right;\">\n",
       "      <th></th>\n",
       "      <th>content</th>\n",
       "      <th>data</th>\n",
       "      <th>like</th>\n",
       "      <th>place</th>\n",
       "      <th>tags</th>\n",
       "    </tr>\n",
       "  </thead>\n",
       "  <tbody>\n",
       "    <tr>\n",
       "      <th>0</th>\n",
       "      <td>올여름은 제주도로 고고~제주갈치왕은 필수😍-여기갈치 요리가 최고로 맛있엉👍-제주산 ...</td>\n",
       "      <td>2020-07-09</td>\n",
       "      <td>0</td>\n",
       "      <td>NaN</td>\n",
       "      <td>['#제주도맛집', '#갈치왕', '#제주도맛집베스트', '#제주도맛집추천', '#...</td>\n",
       "    </tr>\n",
       "    <tr>\n",
       "      <th>1</th>\n",
       "      <td>중문맛집 중문수원음식점.통갈치와 통문어 전복 새우의 환상 조합!돌솥밥과 함께라면 더...</td>\n",
       "      <td>2020-07-10</td>\n",
       "      <td>2,358</td>\n",
       "      <td>NaN</td>\n",
       "      <td>['#제주도맛집', '#중문', '#제주중문맛집', '#제주도갈치조림', '#제주도...</td>\n",
       "    </tr>\n",
       "    <tr>\n",
       "      <th>2</th>\n",
       "      <td>#제주도여행 #성산일출봉맛집이건 꼭 먹어야 하는 흑돼지박스 도시락!!.#흑돼지박스성...</td>\n",
       "      <td>2020-07-08</td>\n",
       "      <td>0</td>\n",
       "      <td>NaN</td>\n",
       "      <td>['#제주도여행', '#성산일출봉맛집이건', '#흑돼지박스성산점👉성산읍', '#섭지...</td>\n",
       "    </tr>\n",
       "    <tr>\n",
       "      <th>3</th>\n",
       "      <td>#제주여행 필수코스 #흑돼지박스 포장하고 바로옆 섭지해변에서 성산일출봉을 바라보며 ...</td>\n",
       "      <td>2020-07-10</td>\n",
       "      <td>0</td>\n",
       "      <td>NaN</td>\n",
       "      <td>['#제주여행', '#흑돼지박스', '#성산일출봉맛집']</td>\n",
       "    </tr>\n",
       "    <tr>\n",
       "      <th>4</th>\n",
       "      <td>혼밥,혼술 또는 커플💑 가족👪모두가 어울리는 멋진 식당!!사장님이 정성껏 맛있게 식...</td>\n",
       "      <td>2020-07-09</td>\n",
       "      <td>0</td>\n",
       "      <td>NaN</td>\n",
       "      <td>['#섭지코지한끼⠀', '#제주맛집', '#제주도맛집', '#섭지코지맛집', '#성...</td>\n",
       "    </tr>\n",
       "  </tbody>\n",
       "</table>\n",
       "</div>"
      ],
      "text/plain": [
       "                                             content        data   like place  \\\n",
       "0  올여름은 제주도로 고고~제주갈치왕은 필수😍-여기갈치 요리가 최고로 맛있엉👍-제주산 ...  2020-07-09      0   NaN   \n",
       "1  중문맛집 중문수원음식점.통갈치와 통문어 전복 새우의 환상 조합!돌솥밥과 함께라면 더...  2020-07-10  2,358   NaN   \n",
       "2  #제주도여행 #성산일출봉맛집이건 꼭 먹어야 하는 흑돼지박스 도시락!!.#흑돼지박스성...  2020-07-08      0   NaN   \n",
       "3  #제주여행 필수코스 #흑돼지박스 포장하고 바로옆 섭지해변에서 성산일출봉을 바라보며 ...  2020-07-10      0   NaN   \n",
       "4  혼밥,혼술 또는 커플💑 가족👪모두가 어울리는 멋진 식당!!사장님이 정성껏 맛있게 식...  2020-07-09      0   NaN   \n",
       "\n",
       "                                                tags  \n",
       "0  ['#제주도맛집', '#갈치왕', '#제주도맛집베스트', '#제주도맛집추천', '#...  \n",
       "1  ['#제주도맛집', '#중문', '#제주중문맛집', '#제주도갈치조림', '#제주도...  \n",
       "2  ['#제주도여행', '#성산일출봉맛집이건', '#흑돼지박스성산점👉성산읍', '#섭지...  \n",
       "3                    ['#제주여행', '#흑돼지박스', '#성산일출봉맛집']  \n",
       "4  ['#섭지코지한끼⠀', '#제주맛집', '#제주도맛집', '#섭지코지맛집', '#성...  "
      ]
     },
     "execution_count": 35,
     "metadata": {},
     "output_type": "execute_result"
    }
   ],
   "source": [
    "jeju_insta_df.reset_index(drop=True, inplace=True)\n",
    "jeju_insta_df.head()"
   ]
  },
  {
   "cell_type": "code",
   "execution_count": 37,
   "metadata": {},
   "outputs": [
    {
     "name": "stdout",
     "output_type": "stream",
     "text": [
      "(290, 5)\n"
     ]
    }
   ],
   "source": [
    "# 중복데이터 삭제\n",
    "\n",
    "jeju_insta_df.drop_duplicates(subset = ['content'], inplace = True)\n",
    "print(jeju_insta_df.shape)\n",
    "\n",
    "jeju_insta_df.to_excel('crawling_data/crawling_raw.xlsx', index = False)"
   ]
  },
  {
   "cell_type": "code",
   "execution_count": null,
   "metadata": {},
   "outputs": [],
   "source": []
  }
 ],
 "metadata": {
  "kernelspec": {
   "display_name": "Python 3",
   "language": "python",
   "name": "python3"
  },
  "language_info": {
   "codemirror_mode": {
    "name": "ipython",
    "version": 3
   },
   "file_extension": ".py",
   "mimetype": "text/x-python",
   "name": "python",
   "nbconvert_exporter": "python",
   "pygments_lexer": "ipython3",
   "version": "3.7.3"
  }
 },
 "nbformat": 4,
 "nbformat_minor": 4
}
