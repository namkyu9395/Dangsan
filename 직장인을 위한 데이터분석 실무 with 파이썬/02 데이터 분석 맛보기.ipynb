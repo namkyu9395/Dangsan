{
 "cells": [
  {
   "cell_type": "markdown",
   "metadata": {},
   "source": [
    "## 웹크롤링 맛보기"
   ]
  },
  {
   "cell_type": "code",
   "execution_count": 1,
   "metadata": {},
   "outputs": [],
   "source": [
    "# 크롬 드라이버 실행\n",
    "from selenium import webdriver\n",
    "driver = webdriver.Chrome('C:/Users/NK/Desktop/programming/python/chromedriver.exe')"
   ]
  },
  {
   "cell_type": "markdown",
   "metadata": {},
   "source": [
    "#### 웹 페이지 접속"
   ]
  },
  {
   "cell_type": "code",
   "execution_count": 2,
   "metadata": {},
   "outputs": [],
   "source": [
    "# driver.get(URL)\n",
    "\n",
    "url = 'https://www.naver.com/'\n",
    "driver.get(url)"
   ]
  },
  {
   "cell_type": "markdown",
   "metadata": {},
   "source": [
    "#### 웹 페이지(HTML) 다운로드"
   ]
  },
  {
   "cell_type": "code",
   "execution_count": 3,
   "metadata": {},
   "outputs": [],
   "source": [
    "# 현재 크롬브라우저가 접속한 웹 페이지의 HTML을 다운로드\n",
    "html = driver.page_source"
   ]
  },
  {
   "cell_type": "markdown",
   "metadata": {},
   "source": [
    "#### HTML 구조 살펴보기\n",
    "\n",
    "    HTML의 특징\n",
    "     1) 시작과 끝이 있다 \n",
    "         - <태그>로 시작해서 </태그>로 끝난다. 태그명은 div, span, p, a, tr, td등 다양\n",
    "     2) 태그는 다른 태그에 속할 수 있다\n",
    "         - 태그 시작과 끝 부분 사이에 다른 태그가 들어있을 수 있음\n",
    "     3) 태그의 시작과 끝 사이에 화면에 표시되는 정보가 들어간다.\n",
    "         ex) <태그> LeeNamKyu <태그/> 라면 화면에는 LeeNamKyu 부분이 출력\n",
    "     4) 태그 기호 내에 속성을 가질 수 있다.\n",
    "         - <태그 속성1 = 값1 속성2 = 값2>안녕하세요</태그> 라면 속성1,2가 포함된 내용이 출력된다."
   ]
  },
  {
   "cell_type": "markdown",
   "metadata": {},
   "source": [
    "#### BeautifulSoup을 이용한 정보 찾기"
   ]
  },
  {
   "cell_type": "code",
   "execution_count": 4,
   "metadata": {},
   "outputs": [],
   "source": [
    "# 실습용 HTML\n",
    "html = '''\n",
    "<html>\n",
    "    <head>\n",
    "    </head>\n",
    "    <body>\n",
    "        <h1> 우리동네시장</h1>\n",
    "            <div class = 'sale'>\n",
    "                <p id='fruits1' class='fruits'>\n",
    "                    <span class = 'name'> 바나나 </span>\n",
    "                    <span class = 'price'> 3000원 </span>\n",
    "                    <span class = 'inventory'> 500개 </span>\n",
    "                    <span class = 'store'> 가나다상회 </span>\n",
    "                    <a href = 'http://bit.ly/forPlaywithData' > 홈페이지 </a>\n",
    "                </p>\n",
    "            </div>\n",
    "            <div class = 'prepare'>\n",
    "                <p id='fruits2' class='fruits'>\n",
    "                    <span class ='name'> 파인애플 </span>\n",
    "                </p>\n",
    "            </div>\n",
    "    </body>\n",
    "</html>\n",
    "'''"
   ]
  },
  {
   "cell_type": "code",
   "execution_count": 5,
   "metadata": {},
   "outputs": [],
   "source": [
    "# HTML문자열을 BeutifulSoup로 해석하기\n",
    "from bs4 import BeautifulSoup\n",
    "\n",
    "soup = BeautifulSoup(html, 'html.parser')"
   ]
  },
  {
   "cell_type": "markdown",
   "metadata": {},
   "source": [
    "#### html 정보 찾기(1) 태그속성 활용"
   ]
  },
  {
   "cell_type": "code",
   "execution_count": 6,
   "metadata": {},
   "outputs": [
    {
     "data": {
      "text/plain": [
       "[<span class=\"name\"> 바나나 </span>,\n",
       " <span class=\"price\"> 3000원 </span>,\n",
       " <span class=\"inventory\"> 500개 </span>,\n",
       " <span class=\"store\"> 가나다상회 </span>,\n",
       " <span class=\"name\"> 파인애플 </span>]"
      ]
     },
     "execution_count": 6,
     "metadata": {},
     "output_type": "execute_result"
    }
   ],
   "source": [
    "# 태그명으로 태그 찾기\n",
    "\n",
    "# select 메쏘드로 span이라는 태그 선택, 리스트로 반환\n",
    "tags_span = soup.select('span')\n",
    "tags_p = soup.select('p')\n",
    "\n",
    "tags_span"
   ]
  },
  {
   "cell_type": "code",
   "execution_count": 7,
   "metadata": {},
   "outputs": [
    {
     "data": {
      "text/plain": [
       "[<span class=\"price\"> 3000원 </span>]"
      ]
     },
     "execution_count": 7,
     "metadata": {},
     "output_type": "execute_result"
    }
   ],
   "source": [
    "# id와 class로 태그 찾기\n",
    "\n",
    "# select 메쏘드를 사용하되, 입력값 앞에 #을 넣으면 id, .을 넣으면 class\n",
    "ids_fruits1 = soup.select('#fruits1')\n",
    "class_price = soup.select('.price')\n",
    "\n",
    "# 태그명과 클래스명 조건을 함꼐 지정하는 것도 가능\n",
    "tags_span_class_price = soup.select('span.price')\n",
    "tags_span_class_price\n",
    "\n",
    "## class속성은 글꼴, 배경색 등 서식을 지정하기 위해 주로 사용\n",
    "## id는 특정 대상을 지정하기 위해 사용 -> html내 한번만 사용이 가능하므로 id를 잘 활용하면 특정 태그를 손쉽게 찾을 수 있음"
   ]
  },
  {
   "cell_type": "markdown",
   "metadata": {},
   "source": [
    "#### HTML 정보 찾기(2) 상위구조 활용"
   ]
  },
  {
   "cell_type": "code",
   "execution_count": 8,
   "metadata": {},
   "outputs": [
    {
     "name": "stdout",
     "output_type": "stream",
     "text": [
      "[<span class=\"name\"> 바나나 </span>, <span class=\"name\"> 파인애플 </span>]\n"
     ]
    }
   ],
   "source": [
    "# 부모 정보 없이 span 태그만으로 정보를 찾을 경우\n",
    "tags_name = soup.select('span.name')\n",
    "print(tags_name)"
   ]
  },
  {
   "cell_type": "code",
   "execution_count": 9,
   "metadata": {},
   "outputs": [
    {
     "name": "stdout",
     "output_type": "stream",
     "text": [
      "[<span class=\"name\"> 바나나 </span>]\n"
     ]
    }
   ],
   "source": [
    "# 부모 정보를 추가하여 span태그로 정보를 찾을 경우\n",
    "tags_banana1 = soup.select('#fruits1 > span.name')\n",
    "print(tags_banana1)"
   ]
  },
  {
   "cell_type": "code",
   "execution_count": 10,
   "metadata": {},
   "outputs": [
    {
     "name": "stdout",
     "output_type": "stream",
     "text": [
      "[<span class=\"name\"> 바나나 </span>]\n",
      "[<span class=\"name\"> 바나나 </span>]\n"
     ]
    }
   ],
   "source": [
    "# >를 활용하면 바로 아래 자식 태그의 정보만 찾을 수 있음\n",
    "tags_banana2 = soup.select('div.sale > #fruits1 > span.name')\n",
    "\n",
    "# 공백을 활용하면 몇 단계 아래 자식 태그의 정보도 찾을 수 있음\n",
    "tags_banana3 = soup.select('div.sale span.name')\n",
    "\n",
    "print(tags_banana2)\n",
    "print(tags_banana3)"
   ]
  },
  {
   "cell_type": "markdown",
   "metadata": {},
   "source": [
    "#### 정보 가져오기 (1) 태그 그룹에서 하나의 태그 선택하기"
   ]
  },
  {
   "cell_type": "code",
   "execution_count": 11,
   "metadata": {},
   "outputs": [
    {
     "name": "stdout",
     "output_type": "stream",
     "text": [
      "<span class=\"name\"> 바나나 </span>\n"
     ]
    }
   ],
   "source": [
    "# 태그 그룹에서 하나의 태그만 선택\n",
    "\n",
    "tags = soup.select('span.name')\n",
    "tag_1 = tags[0]\n",
    "print(tag_1)"
   ]
  },
  {
   "cell_type": "code",
   "execution_count": 12,
   "metadata": {},
   "outputs": [
    {
     "name": "stdout",
     "output_type": "stream",
     "text": [
      "<span class=\"name\"> 바나나 </span>\n",
      "<span class=\"name\"> 파인애플 </span>\n"
     ]
    }
   ],
   "source": [
    "# 태그 그룹에서 반복문으로 태그 하나씩 선택\n",
    "\n",
    "tags = soup.select('span.name')\n",
    "for tag in tags:\n",
    "    print(tag)"
   ]
  },
  {
   "cell_type": "markdown",
   "metadata": {},
   "source": [
    "#### 정보 가져오기 (2) 선택한 태그에서 정보 가져오기"
   ]
  },
  {
   "cell_type": "code",
   "execution_count": 13,
   "metadata": {},
   "outputs": [
    {
     "name": "stdout",
     "output_type": "stream",
     "text": [
      " 홈페이지 \n",
      "http://bit.ly/forPlaywithData\n"
     ]
    }
   ],
   "source": [
    "# 태그에서 정보 가져오기\n",
    "\n",
    "tags = soup.select('a')\n",
    "tag = tags[0]\n",
    "\n",
    "# 태그에서 화면에 보이는 텍스트 부분만 가져오기\n",
    "content = tag.text\n",
    "print(content)\n",
    "\n",
    "# 태그내 속성 값 가져오기\n",
    "link = tag['href']\n",
    "print(link)"
   ]
  },
  {
   "cell_type": "markdown",
   "metadata": {},
   "source": [
    "#### 멜론 노래 순위 정보 크롤링(1) BeautifulSoup 활용"
   ]
  },
  {
   "cell_type": "code",
   "execution_count": 14,
   "metadata": {},
   "outputs": [],
   "source": [
    "from selenium import webdriver\n",
    "\n",
    "driver = webdriver.Chrome('C:/Users/NK/Desktop/programming/python/chromedriver.exe')"
   ]
  },
  {
   "cell_type": "code",
   "execution_count": 15,
   "metadata": {},
   "outputs": [],
   "source": [
    "url = 'https://www.melon.com/chart/index.htm'\n",
    "driver.get(url)"
   ]
  },
  {
   "cell_type": "code",
   "execution_count": 16,
   "metadata": {},
   "outputs": [],
   "source": [
    "from bs4 import BeautifulSoup\n",
    "html = driver.page_source\n",
    "soup = BeautifulSoup(html, 'html.parser')"
   ]
  },
  {
   "cell_type": "code",
   "execution_count": 17,
   "metadata": {},
   "outputs": [],
   "source": [
    "# 노래 제목과 앨범명 추출\n",
    "titles = soup.select(\"#frm > div > table > tbody > tr > td > div > div > div.ellipsis.rank01 > span > a\")  \n",
    "albums = soup.select(\"#frm > div > table > tbody > tr > td > div > div > div.ellipsis.rank03 > a\")\n",
    "\n",
    "# 태그에서 노래 제목만 추출하여 리스트로 만듬\n",
    "for i in range(len(titles)):\n",
    "    titles[i] = titles[i].text\n",
    "\n",
    "# 태그에서 앨범명만 추출하여 리스트로 만듬    \n",
    "for i in range(len(albums)):\n",
    "    albums[i] = albums[i].text"
   ]
  },
  {
   "cell_type": "code",
   "execution_count": 53,
   "metadata": {},
   "outputs": [],
   "source": [
    "# 가수 추출, 여러명의 가수가 노래를 부른경우 다른 탭으로 나눠져있어서 따로 처리해줘야함.\n",
    "singers = soup.select(\"#frm > div > table > tbody > tr > td > div > div > div.ellipsis.rank02\")\n",
    "\n",
    "# div.ellipsis.rank02의 갯수를 세고\n",
    "for i in range(len(singers)):\n",
    "    singers[i] = singers[i].select('span > a')\n",
    "    # 같은 노래에 속하는 가수들은 리스트로 묶어줌\n",
    "    for j in range(len(singers[i])):\n",
    "        singers[i][j] = singers[i][j].text"
   ]
  },
  {
   "cell_type": "code",
   "execution_count": 57,
   "metadata": {},
   "outputs": [
    {
     "name": "stdout",
     "output_type": "stream",
     "text": [
      "How You Like That | ['BLACKPINK'], How You Like That\n",
      "Summer Hate (Feat. 비) | ['지코 (ZICO)'], RANDOM BOX\n",
      "Downtown Baby | ['블루 (BLOO)'], Downtown Baby\n",
      "마리아 (Maria) | ['화사 (Hwa Sa)'], María\n",
      "에잇(Prod.&Feat. SUGA of BTS) | ['아이유'], 에잇\n",
      "보라빛 밤 (pporappippam) | ['선미'], 보라빛 밤 (pporappippam)\n",
      "아로하 | ['조정석'], 슬기로운 의사생활 OST Part 3\n",
      "Into the I-LAND | ['아이유'], I-LAND Part.1 Signal Song\n",
      "사랑하게 될 줄 알았어 | ['전미도'], 슬기로운 의사생활 OST Part 11\n",
      "살짝 설렜어 (Nonstop) | ['오마이걸'], NONSTOP\n"
     ]
    }
   ],
   "source": [
    "# 노래제목, 가수, 앨범을 한꺼번에 출력    \n",
    "for i in range(10):\n",
    "#for i in range(len(singers)):    \n",
    "    print(f'{titles[i]} | {singers[i]}, {albums[i]}')"
   ]
  },
  {
   "cell_type": "markdown",
   "metadata": {},
   "source": [
    "#### 멜론 노래 순위 정보 크롤링(2) Selenium만 활용\n",
    "\n",
    "    - BeautifulSoup은 html을 다운받아서 쥬피터노트북에서 처리한다면 Selenium은 크롬에서 처리\n",
    "    \n",
    "    - 멜론 등은 크롤링 방지를 위해 주기적으로 태그를 변환, https://grefer.tistory.com/2 를 보고 참고하면서 크롤링하자"
   ]
  },
  {
   "cell_type": "code",
   "execution_count": null,
   "metadata": {},
   "outputs": [],
   "source": []
  }
 ],
 "metadata": {
  "kernelspec": {
   "display_name": "Python 3",
   "language": "python",
   "name": "python3"
  },
  "language_info": {
   "codemirror_mode": {
    "name": "ipython",
    "version": 3
   },
   "file_extension": ".py",
   "mimetype": "text/x-python",
   "name": "python",
   "nbconvert_exporter": "python",
   "pygments_lexer": "ipython3",
   "version": "3.7.3"
  }
 },
 "nbformat": 4,
 "nbformat_minor": 4
}
