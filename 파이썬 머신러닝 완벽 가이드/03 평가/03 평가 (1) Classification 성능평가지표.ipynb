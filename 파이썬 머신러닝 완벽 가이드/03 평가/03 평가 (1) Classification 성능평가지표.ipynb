{
 "cells": [
  {
   "cell_type": "markdown",
   "metadata": {},
   "source": [
    "### 머신러닝의 성능 평가 지표\n",
    "\n",
    "    머신러닝의 예측 성능 평가 지표는 estimator에 달려있음\n",
    "     1. 회귀 : 실제 값과 예측값의 오차 평균값에 기반. ex) MAE, MSE, RMSLE 등\n",
    "     2. 분류 : 일반적으로는 실제 데이터와 예측 데이터의 오류를 기반으로 하지만 상황에 따라 조금 더 복잡해짐 ex) 정확도, F1 score 등"
   ]
  },
  {
   "cell_type": "markdown",
   "metadata": {},
   "source": [
    "### 1. 정확도(Accuracy)\n",
    "\n",
    "    실제 데이터와 예측데이터가 얼마나 같은지를 판단하는 지표\n",
    "    \n",
    "    정확도 = 예측결과가 동일한 데이터 건수 / 전체 예측 데이터 건수\n",
    "    \n",
    "    가장 직관적이지만 경우에 따라서 ML 모델의 성능을 왜곡할 수 있음"
   ]
  },
  {
   "cell_type": "markdown",
   "metadata": {},
   "source": [
    "#### 1.1 타이타닉 데이터 셋"
   ]
  },
  {
   "cell_type": "code",
   "execution_count": 1,
   "metadata": {},
   "outputs": [],
   "source": [
    "# 아무런 학습을 하지 않고 성별에 따라서만 생존자를 예측하는 MyDummyClassifier 클래스 생성\n",
    "\n",
    "from sklearn.base import BaseEstimator\n",
    "import numpy as np\n",
    "\n",
    "class MyDummyClassifier(BaseEstimator):\n",
    "    # fit() 메서드는 아무것도 학습하지 않음.\n",
    "    def fit(self, X, y=None):\n",
    "        pass\n",
    "    # predict() 메서드는 단순히 Sex 피처가 1이면 0, 그렇지 않으면 1로 예측\n",
    "    def predict(self, X):\n",
    "        pred = np.zeros((X.shape[0],1))\n",
    "        for i in range(X.shape[0]):\n",
    "            if X['Sex'].iloc[i] == 1:\n",
    "                pred[i] = 0\n",
    "            else :\n",
    "                pred[i] = 1\n",
    "        return pred"
   ]
  },
  {
   "cell_type": "code",
   "execution_count": 2,
   "metadata": {},
   "outputs": [],
   "source": [
    "from sklearn.preprocessing import LabelEncoder\n",
    "\n",
    "# Null 처리 함수\n",
    "def fillna(df):\n",
    "    df['Age'].fillna(df['Age'].mean(), inplace=True)\n",
    "    df['Cabin'].fillna('N', inplace=True)\n",
    "    df['Embarked'].fillna('N', inplace=True)\n",
    "    df['Fare'].fillna(0, inplace=True)\n",
    "    return df\n",
    "\n",
    "# 불필요한 칼럼 제거 함수\n",
    "def drop_features(df):\n",
    "    df.drop(['Name', 'PassengerId', 'Ticket'], axis=1, inplace=True)\n",
    "    return df\n",
    "\n",
    "# 레이블 인코딩 수행 함수\n",
    "def format_features(df):\n",
    "    df['Cabin'] = df['Cabin'].str[:1]\n",
    "    features = ['Cabin', 'Sex', 'Embarked']\n",
    "    for feature in features:\n",
    "        le = LabelEncoder()\n",
    "        le.fit(df[feature])\n",
    "        df[feature] = le.transform(df[feature])\n",
    "    return df\n",
    "\n",
    "# 모든 과정을 총괄하는 함수 생성\n",
    "def transform_features(df):\n",
    "    df = fillna(df)\n",
    "    df = drop_features(df)\n",
    "    df = format_features(df)\n",
    "    return df"
   ]
  },
  {
   "cell_type": "code",
   "execution_count": 3,
   "metadata": {},
   "outputs": [
    {
     "name": "stdout",
     "output_type": "stream",
     "text": [
      "Dummy Classifier의 정확도는 : 0.7877\n"
     ]
    }
   ],
   "source": [
    "# 정의한 클래스로 타이타닉 생존자 예측 수행\n",
    "import pandas as pd\n",
    "from sklearn.model_selection import train_test_split\n",
    "from sklearn.metrics import accuracy_score\n",
    "\n",
    "## 원본 데이터를 재로딩, 데이터 가공, 학습 데이터/테스트 데이터 분할\n",
    "titanic_df = pd.read_csv('data/titanic_train.csv')\n",
    "y_titanic_df = titanic_df['Survived']\n",
    "X_titanic_df = titanic_df.drop('Survived',axis=1)\n",
    "X_titanic_df = transform_features(X_titanic_df)\n",
    "\n",
    "X_train, X_test, y_train, y_test = train_test_split(X_titanic_df, y_titanic_df, test_size=0.2, random_state=0)\n",
    "\n",
    "## 정의한 Dummy Classifier를 이용 학습/예측/평가 수행\n",
    "myclf = MyDummyClassifier()\n",
    "myclf.fit(X_train, y_train)\n",
    "\n",
    "my_prediction = myclf.predict(X_test)\n",
    "print(f'Dummy Classifier의 정확도는 : {accuracy_score(my_prediction, y_test):.4f}')"
   ]
  },
  {
   "cell_type": "markdown",
   "metadata": {},
   "source": [
    "#### 1.2 MNIST 데이터 셋\n",
    "\n",
    "    단지 성별만 가지고 예측한 모델의 정확도가 80%에 육박\n",
    "    특히 레이블 값이 불균형한 데이터에서는 이러한 문제가 두드러짐"
   ]
  },
  {
   "cell_type": "code",
   "execution_count": 4,
   "metadata": {},
   "outputs": [],
   "source": [
    "from sklearn.datasets import load_digits\n",
    "from sklearn.model_selection import train_test_split\n",
    "from sklearn.base import BaseEstimator\n",
    "from sklearn.metrics import accuracy_score\n",
    "import numpy as np\n",
    "import pandas as pd\n",
    "\n",
    "class MyFakeClassifier(BaseEstimator):\n",
    "    def fit(self, X, y):\n",
    "        pass\n",
    "    \n",
    "    # 입력값으로 들어오는 X 데이터 세트의 크기만큼 모두 0값으로 만들어서 반환\n",
    "    def predict(self, X):\n",
    "        return np.zeros((len(X), 1), dtype=bool)\n",
    "    \n",
    "# 사이킷런의 내장 데이터 세트인 load_digits()를 이용해 MNIST 데이터 로딩\n",
    "digits = load_digits()\n",
    "\n",
    "# digits 번호가 7번이면 True, 이를 astype(int)로 1로 변환 7번이 아니면 False이고 0으로 변환\n",
    "y = (digits.target == 7).astype(int)\n",
    "X_train, X_test, y_train, y_test = train_test_split(digits.data, y, random_state=11)"
   ]
  },
  {
   "cell_type": "code",
   "execution_count": 5,
   "metadata": {},
   "outputs": [
    {
     "name": "stdout",
     "output_type": "stream",
     "text": [
      "레이블 테스트 세트 크기 : (450,)\n",
      "테스트 세트 레이블 0과 1의 분포도\n",
      "0    405\n",
      "1     45\n",
      "dtype: int64\n",
      "모든 예측을 0으로 하여도 정확도는 0.9000\n"
     ]
    }
   ],
   "source": [
    "# 불균형한 레이블 데이터 분포도 확인\n",
    "print('레이블 테스트 세트 크기 :', y_test.shape)\n",
    "print('테스트 세트 레이블 0과 1의 분포도')\n",
    "print(pd.Series(y_test).value_counts())\n",
    "\n",
    "# Dummy Classifier로 학습/예측/정확도 평가\n",
    "fakeclf = MyFakeClassifier()\n",
    "fakeclf.fit(X_train, y_train)\n",
    "fakepred = fakeclf.predict(X_test)\n",
    "\n",
    "print(f'모든 예측을 0으로 하여도 정확도는 {accuracy_score(fakepred,y_test):.4f}')"
   ]
  },
  {
   "cell_type": "markdown",
   "metadata": {},
   "source": [
    "### 2. 오차 행렬\n",
    "    이진분류 시 학습된 분류모델에 어떠한 유형의 예측오류를 발생하는 지 나타내는 지표\n",
    "    TN / TP / FN / FP 로 이뤄져있으며 앞의 TF는 실제값과 예측값의 정답 여부를, 뒤의 PN은 예측결과값을 의미\n",
    "\n",
    "    오차 행렬은 그대로 사용한다기 보단 정확도, 재현율, 정밀도를 계산하기 위한 도구\n",
    "     ** 정확도 = (TN + TP) / (TN + TP + FN + FP) "
   ]
  },
  {
   "cell_type": "code",
   "execution_count": 6,
   "metadata": {},
   "outputs": [
    {
     "data": {
      "image/png": "[encoded data removed]",
      "text/plain": [
       "<IPython.core.display.Image object>"
      ]
     },
     "execution_count": 6,
     "metadata": {},
     "output_type": "execute_result"
    }
   ],
   "source": [
    "from IPython.display import Image\n",
    "\n",
    "# 오차행렬\n",
    "Image('image/오차행렬.png')"
   ]
  },
  {
   "cell_type": "code",
   "execution_count": 7,
   "metadata": {},
   "outputs": [
    {
     "data": {
      "text/plain": [
       "array([[405,   0],\n",
       "       [ 45,   0]], dtype=int64)"
      ]
     },
     "execution_count": 7,
     "metadata": {},
     "output_type": "execute_result"
    }
   ],
   "source": [
    "# confusion_matrix() : 사이킷런이 제공하는 오차행렬을 구하기 위한 API\n",
    "\n",
    "from sklearn.metrics import confusion_matrix\n",
    "\n",
    "confusion_matrix(y_test, fakepred)"
   ]
  },
  {
   "cell_type": "markdown",
   "metadata": {},
   "source": [
    "### 3. 정밀도와 재현율\n",
    "\n",
    "    Positive 데이터 세트의 예측 성능에 좀 더 초점을 맞춘 평가 지표\n",
    "    \n",
    "    1) 정밀도 = TP / (FP + TP)\n",
    "       - 실제 Negative 음성데이터를 Positive로 잘못 판단하게 되면 업무상 큰 영향이 발생하는 경우\n",
    "          ex) 스팸메일 여부 판단 모델.\n",
    "    2) 재현율(=민감도, TPR) = TP / (FN + TP)\n",
    "       - 실제 Positive 양성데이터를 Negative로 잘못 판단하게 되면 업무상 큰 영향이 발생하는 경우 사용\n",
    "          ex) 암 판단 모델, 금융 사기 적발 모델\n",
    "    \n",
    "    둘 모두 TP는 증가 하지만 정밀도는 FP의 감소, 재현율은 FN의 감소를 목표로 함."
   ]
  },
  {
   "cell_type": "code",
   "execution_count": 8,
   "metadata": {},
   "outputs": [],
   "source": [
    "## 정확도 : accuracy_score, 정밀도 : precision_score, 재현율 : recall_score\n",
    "from sklearn.metrics import accuracy_score, precision_score, recall_score, confusion_matrix\n",
    "\n",
    "# 평가지표를 모두 호출하는 함수\n",
    "def get_clf_eval(y_test, pred):\n",
    "    confusion = confusion_matrix(y_test, pred)\n",
    "    accuracy = accuracy_score(y_test, pred)\n",
    "    precision = precision_score(y_test, pred)\n",
    "    recall = recall_score(y_test, pred)\n",
    "    print('오차행렬')\n",
    "    print(confusion)\n",
    "    print(f'정확도: {accuracy:.4f}, 정밀도: {precision:.4f}, 재현율: {recall:.4f}')"
   ]
  },
  {
   "cell_type": "code",
   "execution_count": 9,
   "metadata": {},
   "outputs": [
    {
     "name": "stdout",
     "output_type": "stream",
     "text": [
      "오차행렬\n",
      "[[96 15]\n",
      " [20 48]]\n",
      "정확도: 0.8045, 정밀도: 0.7619, 재현율: 0.7059\n"
     ]
    },
    {
     "name": "stderr",
     "output_type": "stream",
     "text": [
      "C:\\Users\\NK\\Anaconda3\\lib\\site-packages\\sklearn\\linear_model\\_logistic.py:940: ConvergenceWarning: lbfgs failed to converge (status=1):\n",
      "STOP: TOTAL NO. of ITERATIONS REACHED LIMIT.\n",
      "\n",
      "Increase the number of iterations (max_iter) or scale the data as shown in:\n",
      "    https://scikit-learn.org/stable/modules/preprocessing.html\n",
      "Please also refer to the documentation for alternative solver options:\n",
      "    https://scikit-learn.org/stable/modules/linear_model.html#logistic-regression\n",
      "  extra_warning_msg=_LOGISTIC_SOLVER_CONVERGENCE_MSG)\n"
     ]
    }
   ],
   "source": [
    "# 로지스틱 회귀 기반으로 타이타닉 생존자 예측 및 평가 수행\n",
    "\n",
    "import pandas as pd\n",
    "from sklearn.model_selection import train_test_split\n",
    "from sklearn.linear_model import LogisticRegression\n",
    "\n",
    "# 원본 데이터를 재로딩, 데이터 가공, 학습데이터/테스트 데이터 분할\n",
    "titanic_df = pd.read_csv('data/titanic_train.csv')\n",
    "y_titanic_df = titanic_df['Survived']\n",
    "X_titanic_df = titanic_df.drop('Survived', axis=1)\n",
    "X_titanic_df = transform_features(X_titanic_df)\n",
    "\n",
    "X_train, X_test, y_train, y_test = train_test_split(X_titanic_df, y_titanic_df, test_size=0.2, random_state=95)\n",
    "\n",
    "lr_clf = LogisticRegression()\n",
    "lr_clf.fit(X_train, y_train)\n",
    "pred = lr_clf.predict(X_test)\n",
    "\n",
    "get_clf_eval(y_test, pred)"
   ]
  },
  {
   "cell_type": "markdown",
   "metadata": {},
   "source": [
    "### 4. 정밀도/재현율 트레이드오프\n",
    "    분류의 결정 임계값을 조정하면 정밀도 or 재현율의 수치를 올릴 수 있음\n",
    "    but 정밀도와 재현율은 상호보완적인 관계이므로 하나를 강제로 높이면 다른 하나는 떨어짐 -> Trade-off\n",
    "    \n",
    "    사이킷런의 분류 결정 방식은 각 데이터가 어떤 레이블에 속할 지 확률은 구한 후 더 높은 확률을 가진 레이블로 예측\n",
    "    이 때 결정 임곗값을 높이면 임의대로 정밀도 or 재현율을 끌어올릴 수 있음"
   ]
  },
  {
   "cell_type": "code",
   "execution_count": 10,
   "metadata": {},
   "outputs": [
    {
     "name": "stdout",
     "output_type": "stream",
     "text": [
      "pred_proba() 결과 Shape : (179, 2)\n",
      "pred_proba array에서 앞 3개만 샘플로 추출 \n",
      ": [[0.8534678  0.1465322 ]\n",
      " [0.36202414 0.63797586]\n",
      " [0.95290397 0.04709603]]\n",
      "두개의 class중에서 더 큰 확률을 클래스 값으로 예측 \n",
      " [[0.8534678  0.1465322  0.        ]\n",
      " [0.36202414 0.63797586 1.        ]\n",
      " [0.95290397 0.04709603 0.        ]]\n"
     ]
    }
   ],
   "source": [
    "# pred_proba() : 개별 클래스의 예측 확률을 반환하는 메서드\n",
    "pred_proba = lr_clf.predict_proba(X_test)\n",
    "pred = lr_clf.predict(X_test)\n",
    "\n",
    "print(f'pred_proba() 결과 Shape : {pred_proba.shape}')\n",
    "print('pred_proba array에서 앞 3개만 샘플로 추출 \\n:', pred_proba[:3])\n",
    "\n",
    "## 예측확률 array와 예측 결괏값 array를 변합해 예측확률과 결괏값을 한눈에 확인\n",
    "pred_proba_result = np.concatenate([pred_proba, pred.reshape(-1,1)], axis=1)\n",
    "print('두개의 class중에서 더 큰 확률을 클래스 값으로 예측 \\n', pred_proba_result[:3])"
   ]
  },
  {
   "cell_type": "code",
   "execution_count": 11,
   "metadata": {},
   "outputs": [
    {
     "name": "stdout",
     "output_type": "stream",
     "text": [
      "[[0. 0. 1.]\n",
      " [1. 0. 0.]\n",
      " [0. 0. 1.]]\n"
     ]
    }
   ],
   "source": [
    "# Binarizer: threshold값보다 같거나 작으면 0, 크면 1을 반환하는 클래스\n",
    "\n",
    "from sklearn.preprocessing import Binarizer\n",
    "\n",
    "X = [[1,  -1,   2],\n",
    "     [2,   0,   0],\n",
    "     [0, 1.1, 1.2]]\n",
    "\n",
    "binarizer = Binarizer(threshold=1.1)\n",
    "print(binarizer.fit_transform(X))"
   ]
  },
  {
   "cell_type": "code",
   "execution_count": 12,
   "metadata": {},
   "outputs": [
    {
     "name": "stdout",
     "output_type": "stream",
     "text": [
      "오차행렬\n",
      "[[96 15]\n",
      " [20 48]]\n",
      "정확도: 0.8045, 정밀도: 0.7619, 재현율: 0.7059\n"
     ]
    }
   ],
   "source": [
    "## Binarizer의 threshold 설정값 (=분류 결정 임계값)\n",
    "custom_threshold = 0.5\n",
    "\n",
    "## predict_proba() 반환값의 두 번쨰 칼럼, 즉 Positive 클래스 칼럼 하나만 추출해 Binarizer를 적용\n",
    "pred_proba_1 = pred_proba[:,1].reshape(-1,1)\n",
    "\n",
    "binarizer = Binarizer(threshold = custom_threshold).fit(pred_proba_1)\n",
    "custom_predict = binarizer.transform(pred_proba_1)\n",
    "\n",
    "get_clf_eval(y_test, custom_predict)"
   ]
  },
  {
   "cell_type": "code",
   "execution_count": 13,
   "metadata": {},
   "outputs": [
    {
     "name": "stdout",
     "output_type": "stream",
     "text": [
      "오차행렬\n",
      "[[89 22]\n",
      " [16 52]]\n",
      "정확도: 0.7877, 정밀도: 0.7027, 재현율: 0.7647\n"
     ]
    }
   ],
   "source": [
    "## Binarizer의 threshold 설정값 (=분류 결정 임계값) 조정\n",
    "## 임계값이 낮아졌으므로 더 많은 데이터를 True로 예측 -> 재현율 상승\n",
    "custom_threshold = 0.4\n",
    "\n",
    "pred_proba_1 = pred_proba[:,1].reshape(-1,1)\n",
    "binarizer = Binarizer(threshold = custom_threshold).fit(pred_proba_1)\n",
    "custom_predict = binarizer.transform(pred_proba_1)\n",
    "get_clf_eval(y_test, custom_predict)"
   ]
  },
  {
   "cell_type": "code",
   "execution_count": 14,
   "metadata": {},
   "outputs": [
    {
     "data": {
      "text/plain": [
       "array([[0.8534678 , 0.1465322 ],\n",
       "       [0.36202414, 0.63797586],\n",
       "       [0.95290397, 0.04709603],\n",
       "       [0.86258337, 0.13741663],\n",
       "       [0.8684858 , 0.1315142 ],\n",
       "       [0.16119494, 0.83880506],\n",
       "       [0.04898362, 0.95101638],\n",
       "       [0.85605706, 0.14394294],\n",
       "       [0.88623781, 0.11376219],\n",
       "       [0.29525731, 0.70474269],\n",
       "       [0.83573352, 0.16426648],\n",
       "       [0.52352059, 0.47647941],\n",
       "       [0.83882218, 0.16117782],\n",
       "       [0.89386025, 0.10613975],\n",
       "       [0.87752764, 0.12247236],\n",
       "       [0.51613029, 0.48386971],\n",
       "       [0.91082989, 0.08917011],\n",
       "       [0.32216824, 0.67783176],\n",
       "       [0.08477662, 0.91522338],\n",
       "       [0.30043346, 0.69956654],\n",
       "       [0.90382849, 0.09617151],\n",
       "       [0.40375805, 0.59624195],\n",
       "       [0.83573352, 0.16426648],\n",
       "       [0.90625125, 0.09374875],\n",
       "       [0.87487738, 0.12512262],\n",
       "       [0.51745354, 0.48254646],\n",
       "       [0.73553794, 0.26446206],\n",
       "       [0.05539561, 0.94460439],\n",
       "       [0.05834239, 0.94165761],\n",
       "       [0.93201599, 0.06798401],\n",
       "       [0.07452637, 0.92547363],\n",
       "       [0.89665783, 0.10334217],\n",
       "       [0.87202994, 0.12797006],\n",
       "       [0.88678646, 0.11321354],\n",
       "       [0.24950302, 0.75049698],\n",
       "       [0.89734876, 0.10265124],\n",
       "       [0.8834837 , 0.1165163 ],\n",
       "       [0.88392509, 0.11607491],\n",
       "       [0.17731555, 0.82268445],\n",
       "       [0.44363417, 0.55636583],\n",
       "       [0.58600128, 0.41399872],\n",
       "       [0.63280772, 0.36719228],\n",
       "       [0.37205581, 0.62794419],\n",
       "       [0.41277558, 0.58722442],\n",
       "       [0.87780506, 0.12219494],\n",
       "       [0.44038288, 0.55961712],\n",
       "       [0.86500439, 0.13499561],\n",
       "       [0.47194456, 0.52805544],\n",
       "       [0.04760222, 0.95239778],\n",
       "       [0.93384575, 0.06615425],\n",
       "       [0.75807032, 0.24192968],\n",
       "       [0.92682236, 0.07317764],\n",
       "       [0.88637285, 0.11362715],\n",
       "       [0.07883675, 0.92116325],\n",
       "       [0.92320669, 0.07679331],\n",
       "       [0.88816903, 0.11183097],\n",
       "       [0.83138116, 0.16861884],\n",
       "       [0.86750606, 0.13249394],\n",
       "       [0.74597415, 0.25402585],\n",
       "       [0.33034263, 0.66965737],\n",
       "       [0.89473104, 0.10526896],\n",
       "       [0.08019178, 0.91980822],\n",
       "       [0.55904494, 0.44095506],\n",
       "       [0.030346  , 0.969654  ],\n",
       "       [0.37459481, 0.62540519],\n",
       "       [0.86500534, 0.13499466],\n",
       "       [0.89650127, 0.10349873],\n",
       "       [0.89415956, 0.10584044],\n",
       "       [0.84555758, 0.15444242],\n",
       "       [0.89595198, 0.10404802],\n",
       "       [0.60579216, 0.39420784],\n",
       "       [0.88505437, 0.11494563],\n",
       "       [0.85409628, 0.14590372],\n",
       "       [0.37194228, 0.62805772],\n",
       "       [0.92848145, 0.07151855],\n",
       "       [0.53208572, 0.46791428],\n",
       "       [0.65160649, 0.34839351],\n",
       "       [0.81633823, 0.18366177],\n",
       "       [0.2230069 , 0.7769931 ],\n",
       "       [0.8023115 , 0.1976885 ],\n",
       "       [0.88365283, 0.11634717],\n",
       "       [0.18163337, 0.81836663],\n",
       "       [0.42522518, 0.57477482],\n",
       "       [0.24647743, 0.75352257],\n",
       "       [0.90676083, 0.09323917],\n",
       "       [0.5129518 , 0.4870482 ],\n",
       "       [0.66775541, 0.33224459],\n",
       "       [0.91076672, 0.08923328],\n",
       "       [0.89593009, 0.10406991],\n",
       "       [0.93552341, 0.06447659],\n",
       "       [0.35872828, 0.64127172],\n",
       "       [0.32383017, 0.67616983],\n",
       "       [0.06781176, 0.93218824],\n",
       "       [0.89915667, 0.10084333],\n",
       "       [0.03549184, 0.96450816],\n",
       "       [0.86717186, 0.13282814],\n",
       "       [0.93223122, 0.06776878],\n",
       "       [0.66198888, 0.33801112],\n",
       "       [0.86536193, 0.13463807],\n",
       "       [0.90150467, 0.09849533],\n",
       "       [0.88623619, 0.11376381],\n",
       "       [0.71947364, 0.28052636],\n",
       "       [0.88073538, 0.11926462],\n",
       "       [0.32597027, 0.67402973],\n",
       "       [0.38438817, 0.61561183],\n",
       "       [0.8913354 , 0.1086646 ],\n",
       "       [0.4663902 , 0.5336098 ],\n",
       "       [0.10118051, 0.89881949],\n",
       "       [0.21554861, 0.78445139],\n",
       "       [0.95265044, 0.04734956],\n",
       "       [0.09996539, 0.90003461],\n",
       "       [0.19953033, 0.80046967],\n",
       "       [0.79957872, 0.20042128],\n",
       "       [0.76755238, 0.23244762],\n",
       "       [0.96068603, 0.03931397],\n",
       "       [0.74771685, 0.25228315],\n",
       "       [0.19271089, 0.80728911],\n",
       "       [0.86885078, 0.13114922],\n",
       "       [0.37170306, 0.62829694],\n",
       "       [0.7289258 , 0.2710742 ],\n",
       "       [0.91301385, 0.08698615],\n",
       "       [0.86423272, 0.13576728],\n",
       "       [0.85082599, 0.14917401],\n",
       "       [0.88445657, 0.11554343],\n",
       "       [0.15724057, 0.84275943],\n",
       "       [0.44768194, 0.55231806],\n",
       "       [0.32988969, 0.67011031],\n",
       "       [0.04217522, 0.95782478],\n",
       "       [0.89593009, 0.10406991],\n",
       "       [0.09780577, 0.90219423],\n",
       "       [0.33459374, 0.66540626],\n",
       "       [0.74258637, 0.25741363],\n",
       "       [0.90317081, 0.09682919],\n",
       "       [0.49945284, 0.50054716],\n",
       "       [0.5127358 , 0.4872642 ],\n",
       "       [0.8958908 , 0.1041092 ],\n",
       "       [0.39993319, 0.60006681],\n",
       "       [0.78627414, 0.21372586],\n",
       "       [0.87464223, 0.12535777],\n",
       "       [0.18709414, 0.81290586],\n",
       "       [0.41839177, 0.58160823],\n",
       "       [0.29034193, 0.70965807],\n",
       "       [0.05404567, 0.94595433],\n",
       "       [0.90158015, 0.09841985],\n",
       "       [0.8652171 , 0.1347829 ],\n",
       "       [0.34566201, 0.65433799],\n",
       "       [0.84948182, 0.15051818],\n",
       "       [0.80226358, 0.19773642],\n",
       "       [0.86259392, 0.13740608],\n",
       "       [0.89157141, 0.10842859],\n",
       "       [0.69222382, 0.30777618],\n",
       "       [0.96610247, 0.03389753],\n",
       "       [0.91620531, 0.08379469],\n",
       "       [0.37196499, 0.62803501],\n",
       "       [0.89590213, 0.10409787],\n",
       "       [0.0563157 , 0.9436843 ],\n",
       "       [0.89248497, 0.10751503],\n",
       "       [0.63280772, 0.36719228],\n",
       "       [0.85873807, 0.14126193],\n",
       "       [0.54459147, 0.45540853],\n",
       "       [0.83223488, 0.16776512],\n",
       "       [0.89590213, 0.10409787],\n",
       "       [0.32280679, 0.67719321],\n",
       "       [0.17645384, 0.82354616],\n",
       "       [0.8495514 , 0.1504486 ],\n",
       "       [0.87260237, 0.12739763],\n",
       "       [0.87489866, 0.12510134],\n",
       "       [0.72547735, 0.27452265],\n",
       "       [0.44768194, 0.55231806],\n",
       "       [0.9406259 , 0.0593741 ],\n",
       "       [0.92694761, 0.07305239],\n",
       "       [0.5001165 , 0.4998835 ],\n",
       "       [0.13562847, 0.86437153],\n",
       "       [0.89277602, 0.10722398],\n",
       "       [0.74314333, 0.25685667],\n",
       "       [0.91506179, 0.08493821],\n",
       "       [0.04514526, 0.95485474],\n",
       "       [0.57251547, 0.42748453],\n",
       "       [0.46891672, 0.53108328]])"
      ]
     },
     "execution_count": 14,
     "metadata": {},
     "output_type": "execute_result"
    }
   ],
   "source": [
    "pred_proba"
   ]
  },
  {
   "cell_type": "code",
   "execution_count": 15,
   "metadata": {
    "scrolled": true
   },
   "outputs": [
    {
     "name": "stdout",
     "output_type": "stream",
     "text": [
      "##임곗값 : 0.4\n",
      "오차행렬\n",
      "[[89 22]\n",
      " [16 52]]\n",
      "정확도: 0.7877, 정밀도: 0.7027, 재현율: 0.7647\n",
      "##임곗값 : 0.45\n",
      "오차행렬\n",
      "[[92 19]\n",
      " [16 52]]\n",
      "정확도: 0.8045, 정밀도: 0.7324, 재현율: 0.7647\n",
      "##임곗값 : 0.5\n",
      "오차행렬\n",
      "[[96 15]\n",
      " [20 48]]\n",
      "정확도: 0.8045, 정밀도: 0.7619, 재현율: 0.7059\n",
      "##임곗값 : 0.55\n",
      "오차행렬\n",
      "[[99 12]\n",
      " [21 47]]\n",
      "정확도: 0.8156, 정밀도: 0.7966, 재현율: 0.6912\n",
      "##임곗값 : 0.6\n",
      "오차행렬\n",
      "[[103   8]\n",
      " [ 25  43]]\n",
      "정확도: 0.8156, 정밀도: 0.8431, 재현율: 0.6324\n"
     ]
    }
   ],
   "source": [
    "## 테스트를 수행할 모든 임곗값을 리스트 객체로 저장\n",
    "thresholds = [0.4, 0.45, 0.5, 0.55, 0.6]\n",
    "\n",
    "def get_eval_by_threshold(y_test ,pred_proba_c1, thresholds):\n",
    "    ## thresholds list 객체 내의 값을 차례로 iteration하면서 Evaluation 수행\n",
    "    for custom_threshold in thresholds:\n",
    "        binarizer = Binarizer(threshold = custom_threshold).fit(pred_proba_c1)\n",
    "        custom_predict = binarizer.transform(pred_proba_c1)\n",
    "        print('##임곗값 :',custom_threshold)\n",
    "        get_clf_eval(y_test, custom_predict)\n",
    "        \n",
    "get_eval_by_threshold(y_test, pred_proba[:,1].reshape(-1,1), thresholds)"
   ]
  },
  {
   "cell_type": "markdown",
   "metadata": {},
   "source": [
    "#### 4.1 precision_recall_curve() API : 임곗값 변화에 따른 평가 지표 값을 출력"
   ]
  },
  {
   "cell_type": "code",
   "execution_count": 16,
   "metadata": {},
   "outputs": [
    {
     "name": "stdout",
     "output_type": "stream",
     "text": [
      "##임계값 : 0.4\n",
      "오차행렬\n",
      "[[89 22]\n",
      " [16 52]]\n",
      "정확도: 0.7877, 정밀도: 0.7027, 재현율: 0.7647\n",
      "\n",
      "\n",
      "##임계값 : 0.45\n",
      "오차행렬\n",
      "[[92 19]\n",
      " [16 52]]\n",
      "정확도: 0.8045, 정밀도: 0.7324, 재현율: 0.7647\n",
      "\n",
      "\n",
      "##임계값 : 0.5\n",
      "오차행렬\n",
      "[[96 15]\n",
      " [20 48]]\n",
      "정확도: 0.8045, 정밀도: 0.7619, 재현율: 0.7059\n",
      "\n",
      "\n",
      "##임계값 : 0.55\n",
      "오차행렬\n",
      "[[99 12]\n",
      " [21 47]]\n",
      "정확도: 0.8156, 정밀도: 0.7966, 재현율: 0.6912\n",
      "\n",
      "\n",
      "##임계값 : 0.6\n",
      "오차행렬\n",
      "[[103   8]\n",
      " [ 25  43]]\n",
      "정확도: 0.8156, 정밀도: 0.8431, 재현율: 0.6324\n",
      "\n",
      "\n"
     ]
    }
   ],
   "source": [
    "## 테스트를 수행할 모든 임곗값을 리스트 객체로 저장\n",
    "thresholds = [0.4, 0.45, 0.5, 0.55, 0.6]\n",
    "\n",
    "def get_eval_by_threshold(y_test, pred_proba_c1, thresholds):\n",
    "    ## thresholds list 객체 내의 값을 차례로 iteration하면서 Evaluation 수행\n",
    "    for custom_threshold in thresholds:\n",
    "        binarizer = Binarizer(threshold = custom_threshold).fit(pred_proba_c1)\n",
    "        custom_predict = binarizer.transform(pred_proba_c1)\n",
    "        print('##임계값 :',custom_threshold)\n",
    "        get_clf_eval(y_test, custom_predict)\n",
    "        print('\\n')\n",
    "        \n",
    "get_eval_by_threshold(y_test, pred_proba[:,1].reshape(-1,1), thresholds)"
   ]
  },
  {
   "cell_type": "code",
   "execution_count": 17,
   "metadata": {},
   "outputs": [
    {
     "name": "stdout",
     "output_type": "stream",
     "text": [
      "반환된 분류 결정 임곗값 배열의 Shape: (150,)\n",
      "샘플 추출을 위한 임계값 배열의 index 10개: [  0  15  30  45  60  75  90 105 120 135]\n",
      "샘플용 10개의 임계값: [0.1  0.11 0.13 0.14 0.21 0.37 0.53 0.63 0.75 0.92]\n",
      "샘플 임계값별 정밀도: [0.439 0.471 0.512 0.574 0.62  0.675 0.77  0.911 1.    1.   ]\n",
      "샘플 임계값별 재현율: [1.    0.956 0.926 0.912 0.838 0.765 0.691 0.603 0.441 0.221]\n"
     ]
    }
   ],
   "source": [
    "from sklearn.metrics import precision_recall_curve\n",
    "\n",
    "## 레이블 값이 1일 떄의 예측 확률을 추출\n",
    "pred_proba_class1 = lr_clf.predict_proba(X_test)[:,1]\n",
    "\n",
    "## 실제값 데이터 세트와 레이블 값이 1일 떄의 예측확률을 precision_recall_curve 인자로 입력\n",
    "precisions, recalls, thresholds = precision_recall_curve(y_test, pred_proba_class1)\n",
    "print('반환된 분류 결정 임곗값 배열의 Shape:', thresholds.shape)\n",
    "\n",
    "## 반환된 임계값 배열 로우가 150건이므로 샘플로 10건만 추출하되, 임계값을 15Step으로 추출\n",
    "thr_index = np.arange(0,thresholds.shape[0],15)\n",
    "print('샘플 추출을 위한 임계값 배열의 index 10개:', thr_index)\n",
    "print('샘플용 10개의 임계값:', np.round(thresholds[thr_index],2))\n",
    "\n",
    "## 15 step 단위로 추출된 임계값에 따른 정밀도와 재현율 값\n",
    "print('샘플 임계값별 정밀도:', np.round(precisions[thr_index],3))\n",
    "print('샘플 임계값별 재현율:', np.round(recalls[thr_index],3))"
   ]
  },
  {
   "cell_type": "code",
   "execution_count": null,
   "metadata": {},
   "outputs": [],
   "source": []
  },
  {
   "cell_type": "code",
   "execution_count": 18,
   "metadata": {},
   "outputs": [
    {
     "data": {
      "image/png": "[encoded data removed]",
      "text/plain": [
       "<Figure size 576x432 with 1 Axes>"
      ]
     },
     "metadata": {
      "needs_background": "light"
     },
     "output_type": "display_data"
    }
   ],
   "source": [
    "# 정밀도 재현율 곡선 시각화\n",
    "import matplotlib.pyplot as plt\n",
    "import matplotlib.ticker as ticker\n",
    "%matplotlib inline\n",
    "\n",
    "def precision_recall_curve_plot(y_test, pred_proba_c1):\n",
    "    ## threshold ndarray와 이 threshold에 따른 정밀도, 재현율 ndarray추출\n",
    "    precisions, recalls, thresholds = precision_recall_curve(y_test, pred_proba_c1)\n",
    "    \n",
    "    ## X축을 threshold값으로, Y축을 정밀도, 재현율 값으로 각각 Plot 수행. 정밀도는 점선으로 표시\n",
    "    plt.figure(figsize=(8,6))\n",
    "    threshold_boundary = thresholds.shape[0]\n",
    "    plt.plot(thresholds, precisions[0:threshold_boundary], linestyle='--', label='precision')\n",
    "    plt.plot(thresholds, recalls[0:threshold_boundary], label='recall')\n",
    "    \n",
    "    ## threshold값 X축의 Scale을 0.1 단위로 변경\n",
    "    start, end = plt.xlim()\n",
    "    plt.xticks(np.round(np.arange(start, end, 0.1),2))\n",
    "    \n",
    "    ## x축, y축 label과 legend, 그리고 grid 설정\n",
    "    plt.xlabel('Threshold value')\n",
    "    plt.ylabel('Precision and Recall value')\n",
    "    plt.legend()\n",
    "    plt.grid()\n",
    "    plt.show()\n",
    "    \n",
    "precision_recall_curve_plot(y_test, lr_clf.predict_proba(X_test)[:,1])"
   ]
  },
  {
   "cell_type": "markdown",
   "metadata": {},
   "source": [
    "### 5. FI 스코어\n",
    "\n",
    "    정밀도와 재현율을 결합하여 두 수치가 치우치지 않을수록 높은 값을 반환하는 지표\n",
    "    F1 = 2 * (정확도 * 재현율) / (정확도 + 재현율)\n",
    "    \n",
    "    사이킷런에서는 f1_score() 라는 API를 제공"
   ]
  },
  {
   "cell_type": "code",
   "execution_count": 19,
   "metadata": {},
   "outputs": [
    {
     "name": "stdout",
     "output_type": "stream",
     "text": [
      "F1 스코어: 0.7328\n"
     ]
    }
   ],
   "source": [
    "# 타이타닉 데이터의 f1_score()를 계산\n",
    "from sklearn.metrics import f1_score\n",
    "f1 = f1_score(y_test, pred)\n",
    "print(f'F1 스코어: {f1:.4f}')"
   ]
  },
  {
   "cell_type": "code",
   "execution_count": 20,
   "metadata": {},
   "outputs": [
    {
     "data": {
      "text/plain": [
       "(179,)"
      ]
     },
     "execution_count": 20,
     "metadata": {},
     "output_type": "execute_result"
    }
   ],
   "source": [
    "y_test.shape"
   ]
  },
  {
   "cell_type": "code",
   "execution_count": 21,
   "metadata": {
    "scrolled": true
   },
   "outputs": [
    {
     "name": "stdout",
     "output_type": "stream",
     "text": [
      "##임계값 : 0.4\n",
      "오차행렬\n",
      "[[89 22]\n",
      " [16 52]]\n",
      "정확도: 0.7877, 정밀도: 0.7027, 재현율: 0.7647, F1: 0.7324\n",
      "\n",
      "\n",
      "##임계값 : 0.45\n",
      "오차행렬\n",
      "[[92 19]\n",
      " [16 52]]\n",
      "정확도: 0.8045, 정밀도: 0.7324, 재현율: 0.7647, F1: 0.7482\n",
      "\n",
      "\n",
      "##임계값 : 0.5\n",
      "오차행렬\n",
      "[[96 15]\n",
      " [20 48]]\n",
      "정확도: 0.8045, 정밀도: 0.7619, 재현율: 0.7059, F1: 0.7328\n",
      "\n",
      "\n",
      "##임계값 : 0.55\n",
      "오차행렬\n",
      "[[99 12]\n",
      " [21 47]]\n",
      "정확도: 0.8156, 정밀도: 0.7966, 재현율: 0.6912, F1: 0.7402\n",
      "\n",
      "\n",
      "##임계값 : 0.6\n",
      "오차행렬\n",
      "[[103   8]\n",
      " [ 25  43]]\n",
      "정확도: 0.8156, 정밀도: 0.8431, 재현율: 0.6324, F1: 0.7227\n",
      "\n",
      "\n"
     ]
    }
   ],
   "source": [
    "# 평가지표 함수 get_clf_eval() 함수에 F1 스코어를 구하는 로직 추가\n",
    "\n",
    "def get_clf_eval(y_test, pred):\n",
    "    confusion = confusion_matrix(y_test, pred)\n",
    "    accuracy = accuracy_score(y_test, pred)\n",
    "    precision = precision_score(y_test, pred)\n",
    "    recall = recall_score(y_test, pred)\n",
    "    f1 = f1_score(y_test, pred)\n",
    "    print('오차행렬')\n",
    "    print(confusion)\n",
    "    print(f'정확도: {accuracy:.4f}, 정밀도: {precision:.4f}, 재현율: {recall:.4f}, F1: {f1:.4f}')\n",
    "    \n",
    "thresholds = [0.4, 0.45, 0.5, 0.55, 0.6]\n",
    "pred_proba = lr_clf.predict_proba(X_test)\n",
    "get_eval_by_threshold(y_test, pred_proba[:,1].reshape(-1,1), thresholds)"
   ]
  },
  {
   "cell_type": "code",
   "execution_count": 22,
   "metadata": {},
   "outputs": [
    {
     "name": "stdout",
     "output_type": "stream",
     "text": [
      "오차행렬\n",
      "[[96 15]\n",
      " [20 48]]\n",
      "정확도: 0.8045, 정밀도: 0.7619, 재현율: 0.7059, F1 스코어: 0.7328\n",
      "##임계값 : 0.4\n",
      "오차행렬\n",
      "[[89 22]\n",
      " [16 52]]\n",
      "정확도: 0.7877, 정밀도: 0.7027, 재현율: 0.7647, F1 스코어: 0.7324\n",
      "\n",
      "\n",
      "##임계값 : 0.45\n",
      "오차행렬\n",
      "[[92 19]\n",
      " [16 52]]\n",
      "정확도: 0.8045, 정밀도: 0.7324, 재현율: 0.7647, F1 스코어: 0.7482\n",
      "\n",
      "\n",
      "##임계값 : 0.5\n",
      "오차행렬\n",
      "[[96 15]\n",
      " [20 48]]\n",
      "정확도: 0.8045, 정밀도: 0.7619, 재현율: 0.7059, F1 스코어: 0.7328\n",
      "\n",
      "\n",
      "##임계값 : 0.55\n",
      "오차행렬\n",
      "[[99 12]\n",
      " [21 47]]\n",
      "정확도: 0.8156, 정밀도: 0.7966, 재현율: 0.6912, F1 스코어: 0.7402\n",
      "\n",
      "\n",
      "##임계값 : 0.6\n",
      "오차행렬\n",
      "[[103   8]\n",
      " [ 25  43]]\n",
      "정확도: 0.8156, 정밀도: 0.8431, 재현율: 0.6324, F1 스코어: 0.7227\n",
      "\n",
      "\n"
     ]
    }
   ],
   "source": [
    "# 평가지표 함수 get_clf_eval() 함수에 F1 스코어를 구하는 로직 추가\n",
    "\n",
    "def get_clf_eval(y_test, pred):\n",
    "    confusion = confusion_matrix(y_test, pred)\n",
    "    accuracy = accuracy_score(y_test, pred)\n",
    "    precision = precision_score(y_test, pred)\n",
    "    recall = recall_score(y_test, pred)\n",
    "    f1 = f1_score(y_test, pred)\n",
    "    print('오차행렬')\n",
    "    print(confusion)\n",
    "    print(f'정확도: {accuracy:.4f}, 정밀도: {precision:.4f}, 재현율: {recall:.4f}, F1 스코어: {f1:.4f}')\n",
    "\n",
    "get_clf_eval(y_test, pred)\n",
    "    \n",
    "thresholds = [0.4, 0.45, 0.5, 0.55, 0.6]\n",
    "pred_proba = lr_clf.predict_proba(X_test)\n",
    "get_eval_by_threshold(y_test, pred_proba[:,1].reshape(-1,1), thresholds)"
   ]
  },
  {
   "cell_type": "markdown",
   "metadata": {},
   "source": [
    "### 6. ROC 곡선과 AUC\n",
    "    1) ROC곡선 : X축이 FPR, Y축이 TPR인 곡선\n",
    "                 ROC곡선이 중앙을 관통하는 일직선과의 거리가 멀어질수록 모델의 성능이 좋음 \n",
    "        ㄱ) FPR(False Positive Rate) = FP / (FP + TN), 실제 음성데이터 중 양성데이터라고 잘못판단한 정도\n",
    "        ㄴ) TPR(True Positive Rate) = TP / (FN + TP), 실제 양성데이터 중 양성데이터로 제대로 판단한 정도 (= 재현율)\n",
    "        \n",
    "     2) AUC : ROC곡선 밑의 면적"
   ]
  },
  {
   "cell_type": "code",
   "execution_count": 23,
   "metadata": {},
   "outputs": [
    {
     "name": "stdout",
     "output_type": "stream",
     "text": [
      "샘플 추출을 위한 임계값 배열의 index 10개: [ 1  6 11 16 21 26 31 36 41]\n",
      "샘플용 10개의 임계값:  [0.97 0.63 0.53 0.47 0.28 0.24 0.15 0.12 0.1 ]\n",
      "샘플 임계값 별 FPR: [0.    0.036 0.126 0.162 0.261 0.297 0.378 0.613 0.712]\n",
      "샘플 임계값 별 TPR: [0.015 0.632 0.691 0.765 0.779 0.838 0.882 0.926 0.985]\n"
     ]
    }
   ],
   "source": [
    "# roc_curve() API : ROC 곡선을 쉽게 구해주는 API\n",
    "from sklearn.metrics import roc_curve\n",
    "\n",
    "## 레이블 값이 1일 떄의 예측 확률을 추출\n",
    "pred_proba_class1 = lr_clf.predict_proba(X_test)[:,1]\n",
    "\n",
    "fprs, tprs, thresholds = roc_curve(y_test, pred_proba_class1)\n",
    "\n",
    "## 반환된 임계값 배열 로우가 46개이므로 샘플로 10건만 추출하되, 임계값을 5 Step으로 추출\n",
    "## thresholds[0]은 max(예측확률)+1 로 임의설정됨. 이를 제외하기 위해 np.arange는 1부터 시작\n",
    "thr_index = np.arange(1, thresholds.shape[0], 5)\n",
    "print('샘플 추출을 위한 임계값 배열의 index 10개:', thr_index)\n",
    "print('샘플용 10개의 임계값: ', np.round(thresholds[thr_index],2))\n",
    "\n",
    "# 5 Step 단위로 추출된 임계값에 따른 FPR, TPR 값\n",
    "print('샘플 임계값 별 FPR:', np.round(fprs[thr_index],3))\n",
    "print('샘플 임계값 별 TPR:', np.round(tprs[thr_index],3))"
   ]
  },
  {
   "cell_type": "code",
   "execution_count": 24,
   "metadata": {},
   "outputs": [
    {
     "data": {
      "image/png": "[encoded data removed]",
      "text/plain": [
       "<Figure size 432x288 with 1 Axes>"
      ]
     },
     "metadata": {
      "needs_background": "light"
     },
     "output_type": "display_data"
    }
   ],
   "source": [
    "# ROC곡선 시각화\n",
    "def roc_curve_plot(y_test, pred_proba_c1):\n",
    "    ## 임계값에 따른 FPR, TPR 값을 반환받음\n",
    "    fprs, tprs, thresholds = roc_curve(y_test, pred_proba_c1)\n",
    "    ## ROC 곡선을 그래프 곡선으로 그림\n",
    "    plt.plot(fprs, tprs, label='ROC')\n",
    "    ## 가운데 대각선 직선을 그림\n",
    "    plt.plot([0,1], [0,1], 'k--', label='Random')\n",
    "    \n",
    "    ## FPR X 축의 Scale을 0.1 단위로 변경, X, Y 축 명 설정 등\n",
    "    start,end = plt.xlim()\n",
    "    plt.xticks(np.round(np.arange(start, end, 0.1),2))\n",
    "    plt.xlim(0, 1); plt.ylim(0,1)\n",
    "    plt.xlabel('FPR(1 - Sensitivity)'); plt.ylabel('TPR(Recall)')\n",
    "    plt.legend()\n",
    "    \n",
    "roc_curve_plot(y_test, pred_proba[:,1])"
   ]
  },
  {
   "cell_type": "code",
   "execution_count": 25,
   "metadata": {},
   "outputs": [
    {
     "name": "stdout",
     "output_type": "stream",
     "text": [
      "ROC AUC값 : 0.8739\n"
     ]
    }
   ],
   "source": [
    "# AUC값 구하기\n",
    "from sklearn.metrics import roc_auc_score\n",
    "\n",
    "pred_proba = lr_clf.predict_proba(X_test)[:,1]\n",
    "roc_score = roc_auc_score(y_test, pred_proba)\n",
    "print(f'ROC AUC값 : {roc_score:.4f}')"
   ]
  },
  {
   "cell_type": "code",
   "execution_count": 26,
   "metadata": {},
   "outputs": [
    {
     "name": "stdout",
     "output_type": "stream",
     "text": [
      "오차 행렬\n",
      "[[96 15]\n",
      " [20 48]]\n",
      "정확도: 0.8045, 정밀도: 0.7619, 재현율: 0.7059, F1: 0.7328, AUC:0.8739\n"
     ]
    }
   ],
   "source": [
    "def get_clf_eval(y_test, pred=None, pred_proba=None):\n",
    "    confusion = confusion_matrix( y_test, pred)\n",
    "    accuracy = accuracy_score(y_test , pred)\n",
    "    precision = precision_score(y_test , pred)\n",
    "    recall = recall_score(y_test , pred)\n",
    "    f1 = f1_score(y_test,pred)\n",
    "    # ROC-AUC 추가 \n",
    "    roc_auc = roc_auc_score(y_test, pred_proba)\n",
    "    print('오차 행렬')\n",
    "    print(confusion)\n",
    "    # ROC-AUC print 추가\n",
    "    print('정확도: {0:.4f}, 정밀도: {1:.4f}, 재현율: {2:.4f}, F1: {3:.4f}, AUC:{4:.4f}'.format(accuracy, precision, recall, f1, roc_auc))\n",
    "    \n",
    "get_clf_eval(y_test, pred, pred_proba)"
   ]
  },
  {
   "cell_type": "code",
   "execution_count": null,
   "metadata": {},
   "outputs": [],
   "source": []
  }
 ],
 "metadata": {
  "kernelspec": {
   "display_name": "Python 3",
   "language": "python",
   "name": "python3"
  },
  "language_info": {
   "codemirror_mode": {
    "name": "ipython",
    "version": 3
   },
   "file_extension": ".py",
   "mimetype": "text/x-python",
   "name": "python",
   "nbconvert_exporter": "python",
   "pygments_lexer": "ipython3",
   "version": "3.7.3"
  }
 },
 "nbformat": 4,
 "nbformat_minor": 4
}
