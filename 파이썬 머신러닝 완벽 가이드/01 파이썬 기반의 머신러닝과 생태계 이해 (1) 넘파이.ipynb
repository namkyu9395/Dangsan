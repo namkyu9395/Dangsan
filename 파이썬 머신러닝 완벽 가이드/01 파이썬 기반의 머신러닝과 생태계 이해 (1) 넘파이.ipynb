{
 "cells": [
  {
   "cell_type": "markdown",
   "metadata": {},
   "source": [
    "#### 1. 넘파이 ndarray 개요"
   ]
  },
  {
   "cell_type": "code",
   "execution_count": 1,
   "metadata": {},
   "outputs": [],
   "source": [
    "import numpy as np"
   ]
  },
  {
   "cell_type": "code",
   "execution_count": 6,
   "metadata": {},
   "outputs": [
    {
     "name": "stdout",
     "output_type": "stream",
     "text": [
      "array1 type :  <class 'numpy.ndarray'>\n",
      "array1 array 형태 :  (3,)\n",
      "array2 type :  <class 'numpy.ndarray'>\n",
      "array2 array 형태 :  (2, 3)\n",
      "array3 type :  <class 'numpy.ndarray'>\n",
      "array3 array 형태 :  (1, 3)\n",
      "array1 : 1차원, array2 : 2차원, array3 : 2차원\n"
     ]
    }
   ],
   "source": [
    "## 1차원 ndarray\n",
    "array1 = np.array([1,2,3])\n",
    "print('array1 type : ',type(array1))\n",
    "print('array1 array 형태 : ',array1.shape)\n",
    "\n",
    "## 2차원 ndarray\n",
    "array2 = np.array([[1,2,3],\n",
    "                  [2,3,4]])\n",
    "print('array2 type : ',type(array2))\n",
    "print('array2 array 형태 : ',array2.shape)\n",
    "\n",
    "## array1과 동일한 데이터 갯수이지만 2차원 ndarray\n",
    "array3 = np.array([[1,2,3]])\n",
    "print('array3 type : ',type(array3))\n",
    "print('array3 array 형태 : ',array3.shape)\n",
    "\n",
    "## 메쏘드 ndim으로 차원확인 가능\n",
    "print(f'array1 : {array1.ndim}차원, array2 : {array2.ndim}차원, array3 : {array3.ndim}차원')"
   ]
  },
  {
   "cell_type": "markdown",
   "metadata": {},
   "source": [
    "#### 2. ndarray 데이터타입"
   ]
  },
  {
   "cell_type": "code",
   "execution_count": 10,
   "metadata": {},
   "outputs": [
    {
     "name": "stdout",
     "output_type": "stream",
     "text": [
      "<class 'list'>\n",
      "<class 'numpy.ndarray'>\n",
      "[1 2 3] int32\n"
     ]
    }
   ],
   "source": [
    "# list1의 데이터타입은 type으로, 리스트 내 원소의 데이터 타입은 dtype 속성으로 확인\n",
    "list1 = [1,2,3]\n",
    "print(type(list1))\n",
    "\n",
    "array1 = np.array(list1)\n",
    "print(type(array1))\n",
    "print(array1, array1.dtype)"
   ]
  },
  {
   "cell_type": "code",
   "execution_count": 13,
   "metadata": {},
   "outputs": [
    {
     "name": "stdout",
     "output_type": "stream",
     "text": [
      "['1' '2' 'test'] <U11\n",
      "[1. 2. 3.] float64\n"
     ]
    }
   ],
   "source": [
    "# 리스트는 여러개의 데이터 타입이 동시에 존재 가능\n",
    "# 하지만 ndarray는 하나의 데이터 타입만 존재해야 하므로 자동적으로 형변환\n",
    "\n",
    "## 정수 / 문자 혼용은 문자데이터로\n",
    "list2 = [1,2,'test']\n",
    "array2 = np.array(list2)\n",
    "print(array2, array2.dtype)\n",
    "\n",
    "## 정수 / 실수 혼용은 실수데이터로\n",
    "list3 = [1,2,3.0]\n",
    "array3 = np.array(list3)\n",
    "print(array3, array3.dtype)"
   ]
  },
  {
   "cell_type": "code",
   "execution_count": 18,
   "metadata": {},
   "outputs": [
    {
     "name": "stdout",
     "output_type": "stream",
     "text": [
      "[1. 2. 3.] float64\n",
      "[1 2 3] int32\n",
      "[1 3 6] int32\n"
     ]
    }
   ],
   "source": [
    "# astype() 메서드로 명시적 형변환 가능\n",
    "\n",
    "## 정수 -> 실수\n",
    "array_int = np.array([1,2,3])\n",
    "array_float = array_int.astype('float64')\n",
    "print(array_float, array_float.dtype)\n",
    "\n",
    "## 실수 -> 정수\n",
    "array_int1 = array_float.astype('int32')\n",
    "print(array_int1, array_int1.dtype)\n",
    "\n",
    "## 실수 -> 정수 변환 시 소숫점은 버림\n",
    "array_float1 = np.array([1.1,3.3,6.6])\n",
    "array_int2 = array_float1.astype('int32')\n",
    "print(array_int2, array_int2.dtype)"
   ]
  },
  {
   "cell_type": "markdown",
   "metadata": {},
   "source": [
    "#### 3. ndarray를 편리하게 생성하기 - arange, zeros, ones"
   ]
  },
  {
   "cell_type": "code",
   "execution_count": 25,
   "metadata": {},
   "outputs": [
    {
     "name": "stdout",
     "output_type": "stream",
     "text": [
      "[0 1 2 3 4 5 6 7 8 9]\n",
      "int32 (10,)\n",
      "[ 3  4  5  6  7  8  9 10 11 12 13 14]\n"
     ]
    }
   ],
   "source": [
    "# arange() : 파이썬의 range와 유사\n",
    "sequence_array = np.arange(10)\n",
    "print(sequence_array)\n",
    "print(sequence_array.dtype, sequence_array.shape)\n",
    "\n",
    "## start와 stop값 지정도 가능\n",
    "sequence_array2 = np.arange(3,15)\n",
    "print(sequence_array2)"
   ]
  },
  {
   "cell_type": "code",
   "execution_count": 26,
   "metadata": {},
   "outputs": [
    {
     "name": "stdout",
     "output_type": "stream",
     "text": [
      "[[0 0]\n",
      " [0 0]\n",
      " [0 0]]\n",
      "int32 (3, 2)\n"
     ]
    }
   ],
   "source": [
    "# zeros() : 튜플로 shape값 입력 시 모든 값이 0으로 채워진 ndarray반환\n",
    "zero_array = np.zeros((3,2), dtype='int32')\n",
    "print(zero_array)\n",
    "print(zero_array.dtype, zero_array.shape)"
   ]
  },
  {
   "cell_type": "code",
   "execution_count": 29,
   "metadata": {},
   "outputs": [
    {
     "name": "stdout",
     "output_type": "stream",
     "text": [
      "[[1. 1.]\n",
      " [1. 1.]\n",
      " [1. 1.]]\n",
      "float64 (3, 2)\n"
     ]
    }
   ],
   "source": [
    "# ones() : zeros와 동일한데 모든 값이 1로 채워진 ndarray반환\n",
    "ones_array = np.ones((3,2))\n",
    "print(ones_array)\n",
    "print(ones_array.dtype, ones_array.shape)"
   ]
  },
  {
   "cell_type": "markdown",
   "metadata": {},
   "source": [
    "#### 4. ndarray의 차원과 크기를 변경하기 - reshape()"
   ]
  },
  {
   "cell_type": "code",
   "execution_count": 31,
   "metadata": {},
   "outputs": [
    {
     "name": "stdout",
     "output_type": "stream",
     "text": [
      "array1 :\n",
      " [0 1 2 3 4 5 6 7 8 9]\n",
      "array2 :\n",
      " [[0 1 2 3 4]\n",
      " [5 6 7 8 9]]\n",
      "array3 :\n",
      " [[0 1]\n",
      " [2 3]\n",
      " [4 5]\n",
      " [6 7]\n",
      " [8 9]]\n"
     ]
    }
   ],
   "source": [
    "array1 = np.arange(10)\n",
    "print('array1 :\\n', array1)\n",
    "\n",
    "## array1을 2행 5열 ndarray로 변환\n",
    "array2 = array1.reshape(2,5)\n",
    "print('array2 :\\n', array2)\n",
    "\n",
    "## array1을 5행 2열로 변환\n",
    "array3 = array1.reshape(5,2)\n",
    "print('array3 :\\n', array3)\n",
    "\n",
    "## 지정된 사이즈로 변경이 불가능하면 오류발생\n",
    "# array4 = array1.reshape(4,3)\n",
    "# print('array4 :\\n', array4)"
   ]
  },
  {
   "cell_type": "code",
   "execution_count": 35,
   "metadata": {},
   "outputs": [
    {
     "name": "stdout",
     "output_type": "stream",
     "text": [
      "[0 1 2 3 4 5 6 7 8 9]\n",
      "array2 shape: (2, 5)\n",
      "array3 shape: (5, 2)\n"
     ]
    }
   ],
   "source": [
    "# -1 인자를 활용하면 알아서 맞춰서 만들어줌\n",
    "array1 = np.arange(10)\n",
    "print(array1)\n",
    "\n",
    "array2 = array1.reshape(-1,5)\n",
    "print('array2 shape:',array2.shape)\n",
    "\n",
    "array3 = array1.reshape(5,-1)\n",
    "print('array3 shape:',array3.shape)"
   ]
  },
  {
   "cell_type": "code",
   "execution_count": 39,
   "metadata": {},
   "outputs": [
    {
     "name": "stdout",
     "output_type": "stream",
     "text": [
      "array3d :\n",
      " [[[0 1]\n",
      "  [2 3]]\n",
      "\n",
      " [[4 5]\n",
      "  [6 7]]]\n",
      "array5 :\n",
      " [[0]\n",
      " [1]\n",
      " [2]\n",
      " [3]\n",
      " [4]\n",
      " [5]\n",
      " [6]\n",
      " [7]]\n",
      "array6 :\n",
      " [[0]\n",
      " [1]\n",
      " [2]\n",
      " [3]\n",
      " [4]\n",
      " [5]\n",
      " [6]\n",
      " [7]]\n"
     ]
    }
   ],
   "source": [
    "# -1 인자를 이용하여 반드시 1개의 칼럼을 가진 ndarray로 만들때 주로 사용\n",
    "array1 = np.arange(8)\n",
    "array3d = array1.reshape((2,2,2))\n",
    "print('array3d :\\n', array3d)\n",
    "\n",
    "## 3차원 ndarray를 2차원 ndarray로 반환\n",
    "array5 = array3d.reshape((-1,1))\n",
    "print('array5 :\\n', array5)\n",
    "\n",
    "## 1차원 ndarray를 2차원 ndarray로 반환\n",
    "array6 = array1.reshape((-1,1))\n",
    "print('array6 :\\n', array6)"
   ]
  },
  {
   "cell_type": "markdown",
   "metadata": {},
   "source": [
    "#### 5. 넘파이의 ndarray의 데이터 세트 선택하기 : 인덱싱"
   ]
  },
  {
   "cell_type": "code",
   "execution_count": null,
   "metadata": {},
   "outputs": [],
   "source": []
  }
 ],
 "metadata": {
  "kernelspec": {
   "display_name": "Python 3",
   "language": "python",
   "name": "python3"
  },
  "language_info": {
   "codemirror_mode": {
    "name": "ipython",
    "version": 3
   },
   "file_extension": ".py",
   "mimetype": "text/x-python",
   "name": "python",
   "nbconvert_exporter": "python",
   "pygments_lexer": "ipython3",
   "version": "3.7.3"
  }
 },
 "nbformat": 4,
 "nbformat_minor": 4
}
