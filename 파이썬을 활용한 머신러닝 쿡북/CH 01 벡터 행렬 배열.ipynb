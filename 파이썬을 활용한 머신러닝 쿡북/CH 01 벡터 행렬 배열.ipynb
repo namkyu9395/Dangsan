{
 "cells": [
  {
   "cell_type": "markdown",
   "metadata": {},
   "source": [
    "#### 1.1 벡터만들기"
   ]
  },
  {
   "cell_type": "code",
   "execution_count": 1,
   "metadata": {},
   "outputs": [],
   "source": [
    "# 라이브러리 임포트\n",
    "import numpy as np"
   ]
  },
  {
   "cell_type": "code",
   "execution_count": 2,
   "metadata": {},
   "outputs": [
    {
     "name": "stdout",
     "output_type": "stream",
     "text": [
      "[1 2 3]\n",
      "[[1]\n",
      " [2]\n",
      " [3]]\n"
     ]
    }
   ],
   "source": [
    "# 행이 하나인 벡터 만들기\n",
    "vector_row = np.array([1,2,3])\n",
    "print(vector_row)\n",
    "\n",
    "# 열이 하나인 벡터 만들기\n",
    "vector_columns = np.array([[1],\n",
    "                           [2],\n",
    "                           [3]])\n",
    "print(vector_columns)"
   ]
  },
  {
   "cell_type": "code",
   "execution_count": 3,
   "metadata": {},
   "outputs": [
    {
     "name": "stdout",
     "output_type": "stream",
     "text": [
      "<class 'numpy.ndarray'>\n"
     ]
    }
   ],
   "source": [
    "# 넘파이 배열은 ndarray클래스의 객체\n",
    "print(type(vector_row))"
   ]
  },
  {
   "cell_type": "code",
   "execution_count": 4,
   "metadata": {},
   "outputs": [
    {
     "data": {
      "text/plain": [
       "array([1.38588047e-311, 0.00000000e+000, 6.47591605e-319])"
      ]
     },
     "execution_count": 4,
     "metadata": {},
     "output_type": "execute_result"
    }
   ],
   "source": [
    "# ndarray 클래스 첫번째 매개변쉐 배열크기를 정수 튜플로 지정하여 넘파이를 만들 수는 있으나 권장되지 않음\n",
    "bad_way = np.ndarray((3,))\n",
    "bad_way"
   ]
  },
  {
   "cell_type": "code",
   "execution_count": 5,
   "metadata": {},
   "outputs": [
    {
     "data": {
      "text/plain": [
       "True"
      ]
     },
     "execution_count": 5,
     "metadata": {},
     "output_type": "execute_result"
    }
   ],
   "source": [
    "# asarray() : 복사본 반환\n",
    "new_row = np.asarray(vector_row)\n",
    "new_row is vector_row"
   ]
  },
  {
   "cell_type": "code",
   "execution_count": 6,
   "metadata": {},
   "outputs": [
    {
     "data": {
      "text/plain": [
       "False"
      ]
     },
     "execution_count": 6,
     "metadata": {},
     "output_type": "execute_result"
    }
   ],
   "source": [
    "new_row = np.array(vector_row)\n",
    "new_row is vector_row"
   ]
  },
  {
   "cell_type": "markdown",
   "metadata": {},
   "source": [
    "배열을 만드는 방식은\n",
    "1. np.array()로 만들기 : 참조본\n",
    "2. np.asarray()로 만들기 : 복사본 -> .copy()와 유사\n",
    "3. np.ndarray(())로 만들기 : 비추천  \n",
    "이 있음"
   ]
  },
  {
   "cell_type": "markdown",
   "metadata": {},
   "source": [
    "#### 1.2 행렬만들기"
   ]
  },
  {
   "cell_type": "code",
   "execution_count": 7,
   "metadata": {},
   "outputs": [
    {
     "data": {
      "text/plain": [
       "array([[1, 2],\n",
       "       [1, 2],\n",
       "       [1, 2]])"
      ]
     },
     "execution_count": 7,
     "metadata": {},
     "output_type": "execute_result"
    }
   ],
   "source": [
    "# 2차원 배열 만들기\n",
    "\n",
    "matrix = np.array([[1,2],\n",
    "                   [1,2],\n",
    "                   [1,2]])\n",
    "\n",
    "matrix"
   ]
  },
  {
   "cell_type": "code",
   "execution_count": 8,
   "metadata": {},
   "outputs": [
    {
     "data": {
      "text/plain": [
       "matrix([[1, 2],\n",
       "        [1, 2],\n",
       "        [1, 2]])"
      ]
     },
     "execution_count": 8,
     "metadata": {},
     "output_type": "execute_result"
    }
   ],
   "source": [
    "# mat() : 2차원 배열에 특화된 데이터구조 행렬\n",
    "matrix_object = np.mat([[1,2],\n",
    "                        [1,2],\n",
    "                        [1,2]])\n",
    "\n",
    "matrix_object"
   ]
  },
  {
   "cell_type": "markdown",
   "metadata": {},
   "source": [
    "하지만 행렬은 자주 사용되지 않고 배열이 넘파이의 표준 데이터 구조이므로 matrix객체 대신 __2차원 array__ 를 사용하자"
   ]
  },
  {
   "cell_type": "code",
   "execution_count": 9,
   "metadata": {},
   "outputs": [
    {
     "data": {
      "text/plain": [
       "array([[0., 0.],\n",
       "       [0., 0.],\n",
       "       [0., 0.]])"
      ]
     },
     "execution_count": 9,
     "metadata": {},
     "output_type": "execute_result"
    }
   ],
   "source": [
    "# empty(()) : 초깃값이 모두 0인 2차원 array 생성, 매개인자로 크기를 전달\n",
    "\n",
    "empty_matrix = np.empty((3,2))\n",
    "empty_matrix"
   ]
  },
  {
   "cell_type": "code",
   "execution_count": 10,
   "metadata": {},
   "outputs": [
    {
     "data": {
      "text/plain": [
       "array([[0., 0.],\n",
       "       [0., 0.],\n",
       "       [0., 0.]])"
      ]
     },
     "execution_count": 10,
     "metadata": {},
     "output_type": "execute_result"
    }
   ],
   "source": [
    "# zeros(()) : empty(()) 와 동일\n",
    "zero_matrix = np.zeros((3,2))\n",
    "zero_matrix"
   ]
  },
  {
   "cell_type": "code",
   "execution_count": 11,
   "metadata": {},
   "outputs": [
    {
     "data": {
      "text/plain": [
       "array([[1., 1.],\n",
       "       [1., 1.],\n",
       "       [1., 1.]])"
      ]
     },
     "execution_count": 11,
     "metadata": {},
     "output_type": "execute_result"
    }
   ],
   "source": [
    "# ones(()) : 초깃값이 모두 1인 2차원 array 생성, 매개인자로 크기 전달\n",
    "\n",
    "one_matrix = np.ones((3,2))\n",
    "one_matrix"
   ]
  },
  {
   "cell_type": "code",
   "execution_count": 12,
   "metadata": {},
   "outputs": [
    {
     "data": {
      "text/plain": [
       "array([[7, 7],\n",
       "       [7, 7],\n",
       "       [7, 7]])"
      ]
     },
     "execution_count": 12,
     "metadata": {},
     "output_type": "execute_result"
    }
   ],
   "source": [
    "# full() : 초깃값을 모두 원하는 숫자로 채워놓은 2차원 array 생성\n",
    "seven_matrix = np.full((3,2),7)\n",
    "seven_matrix"
   ]
  },
  {
   "cell_type": "markdown",
   "metadata": {},
   "source": [
    "#### 1.3 희소행렬을 밀집배열로 만들기\n",
    "\n",
    "__희소행렬(sparse matrix)__ : 배열의 value가 대부분 0으로 이뤄져 있는 행렬  \n",
    "__밀집배열(density array)__ : 희소행렬에서 값이 있는 위치를 저장하는 방식 -> for __계산비용 절감__"
   ]
  },
  {
   "cell_type": "code",
   "execution_count": 13,
   "metadata": {},
   "outputs": [],
   "source": [
    "import numpy as np\n",
    "from scipy import sparse\n",
    "\n",
    "matrix = np.array([[0,0],\n",
    "                   [0,1],\n",
    "                   [3,0]])\n",
    "\n",
    "# CSR행렬을 만듭니다\n",
    "matrix_sparse = sparse.csr_matrix(matrix)"
   ]
  },
  {
   "cell_type": "code",
   "execution_count": 14,
   "metadata": {},
   "outputs": [
    {
     "name": "stdout",
     "output_type": "stream",
     "text": [
      "  (1, 1)\t1\n",
      "  (2, 0)\t3\n"
     ]
    }
   ],
   "source": [
    "print(matrix_sparse)"
   ]
  },
  {
   "cell_type": "code",
   "execution_count": 15,
   "metadata": {},
   "outputs": [
    {
     "name": "stdout",
     "output_type": "stream",
     "text": [
      "  (1, 1)\t1\n",
      "  (2, 0)\t3\n"
     ]
    }
   ],
   "source": [
    "matrix_large = np.array([[0,0,0,0,0,0,0,0,0,0],\n",
    "                         [0,1,0,0,0,0,0,0,0,0],\n",
    "                         [3,0,0,0,0,0,0,0,0,0]])\n",
    "                         \n",
    "matrix_sparse_large = sparse.csr_matrix(matrix_large)\n",
    "print(matrix_sparse_large)"
   ]
  },
  {
   "cell_type": "markdown",
   "metadata": {},
   "source": [
    "행렬의 크기가 클수록 CSR의 위력이 강해진다!"
   ]
  },
  {
   "cell_type": "code",
   "execution_count": 16,
   "metadata": {},
   "outputs": [
    {
     "name": "stdout",
     "output_type": "stream",
     "text": [
      "  (1, 1)\t1\n",
      "  (2, 0)\t3\n"
     ]
    }
   ],
   "source": [
    "# 밀집배열에서 희소행렬을 만드는 것도 가능\n",
    "# sparse.csr_matrix()에 매개인자로 (data, (row_index, col_index))로 구성된 튜플을 전달\n",
    "\n",
    "matrix_sparse_2 = sparse.csr_matrix(([1,3], ([1,2], [1,0])), shape=(3,10))\n",
    "print(matrix_sparse_2)"
   ]
  },
  {
   "cell_type": "code",
   "execution_count": 17,
   "metadata": {},
   "outputs": [
    {
     "name": "stdout",
     "output_type": "stream",
     "text": [
      "[[0 0 0 0 0 0 0 0 0 0]\n",
      " [0 1 0 0 0 0 0 0 0 0]\n",
      " [3 0 0 0 0 0 0 0 0 0]]\n",
      "<class 'numpy.ndarray'>\n"
     ]
    }
   ],
   "source": [
    "# toarray() 메서드로 밀집배열을 희소행렬로 변환\n",
    "print(matrix_sparse_2.toarray())\n",
    "print(type(matrix_sparse_2.toarray()))"
   ]
  },
  {
   "cell_type": "code",
   "execution_count": 18,
   "metadata": {},
   "outputs": [
    {
     "name": "stdout",
     "output_type": "stream",
     "text": [
      "[[0 0 0 0 0 0 0 0 0 0]\n",
      " [0 1 0 0 0 0 0 0 0 0]\n",
      " [3 0 0 0 0 0 0 0 0 0]]\n",
      "<class 'numpy.matrix'>\n"
     ]
    }
   ],
   "source": [
    "# todense() 메서드는 matrix객체를 반환\n",
    "print(matrix_sparse_2.todense())\n",
    "print(type(matrix_sparse_2.todense()))"
   ]
  },
  {
   "cell_type": "markdown",
   "metadata": {},
   "source": [
    "#### 1.4 원소 선택하기"
   ]
  },
  {
   "cell_type": "code",
   "execution_count": 19,
   "metadata": {},
   "outputs": [
    {
     "name": "stdout",
     "output_type": "stream",
     "text": [
      "3\n",
      "5\n"
     ]
    }
   ],
   "source": [
    "vector = np.array([1,2,3,4,5,6])\n",
    "matrix = np.array([[1,2,3],\n",
    "                   [4,5,6],\n",
    "                   [7,8,9]])\n",
    "\n",
    "# 파이썬의 인덱싱과 동일하게 첫번째 원소의 인덱스는 0\n",
    "## 벡터의 3번째 원소를 가져올 것\n",
    "print(vector[2])\n",
    "## 행렬의 2행 2열의 원소를 가져올 것\n",
    "print(matrix[1,1])"
   ]
  },
  {
   "cell_type": "code",
   "execution_count": 20,
   "metadata": {},
   "outputs": [
    {
     "name": "stdout",
     "output_type": "stream",
     "text": [
      "[1 2 3 4 5 6]\n",
      "[1 2 3]\n",
      "[4 5 6]\n",
      "6\n",
      "[[1 2 3]\n",
      " [4 5 6]]\n",
      "[[2]\n",
      " [5]\n",
      " [8]]\n"
     ]
    }
   ],
   "source": [
    "# 벡터의 모든 원소를 선택할 것\n",
    "print(vector[:])\n",
    "\n",
    "# 세번째 원소를 포함하여 그 이전의 모든 원소를 선택할 것\n",
    "print(vector[:3])\n",
    "\n",
    "# 세번째 이후의 원소를 선택할 것\n",
    "print(vector[3:])\n",
    "\n",
    "# 마지막 원소를 선택할 것\n",
    "print(vector[-1])\n",
    "\n",
    "# 1,2행을 모두 선택할 것\n",
    "print(matrix[:2,:])\n",
    "\n",
    "# 2열을 선택할 것\n",
    "print(matrix[:,1:2])"
   ]
  },
  {
   "cell_type": "code",
   "execution_count": 21,
   "metadata": {},
   "outputs": [
    {
     "data": {
      "text/plain": [
       "array([2, 7])"
      ]
     },
     "execution_count": 21,
     "metadata": {},
     "output_type": "execute_result"
    }
   ],
   "source": [
    "# 팬시 인덱싱 : 행과 열의 인덱스 리스트를 전달하여 배열의 원소 선택\n",
    "\n",
    "# 1행과 3행을 선택할 것\n",
    "matrix[[0,2]]\n",
    "\n",
    "# (0,1), (2,0) 원소를 선택할 것\n",
    "matrix[[0,2], [1,0]]"
   ]
  },
  {
   "cell_type": "code",
   "execution_count": 22,
   "metadata": {},
   "outputs": [
    {
     "name": "stdout",
     "output_type": "stream",
     "text": [
      "[[False False False]\n",
      " [False False  True]\n",
      " [ True  True  True]]\n"
     ]
    },
    {
     "data": {
      "text/plain": [
       "array([6, 7, 8, 9])"
      ]
     },
     "execution_count": 22,
     "metadata": {},
     "output_type": "execute_result"
    }
   ],
   "source": [
    "# 불린 인덱싱 : 불린을 이용하여 원소 선택\n",
    "mask = matrix > 5\n",
    "print(mask)\n",
    "\n",
    "matrix[mask]"
   ]
  },
  {
   "cell_type": "markdown",
   "metadata": {},
   "source": [
    "#### 1.5 행렬정보 확인하기"
   ]
  },
  {
   "cell_type": "code",
   "execution_count": 23,
   "metadata": {},
   "outputs": [
    {
     "name": "stdout",
     "output_type": "stream",
     "text": [
      "(3, 4)\n",
      "12\n",
      "2\n",
      "int32\n",
      "4\n",
      "48\n"
     ]
    }
   ],
   "source": [
    "matrix = np.array([[1,2,3,4],\n",
    "                   [5,6,7,8],\n",
    "                   [9,10,11,12]])\n",
    "\n",
    "# 행렬의 크기확인\n",
    "print(matrix.shape)\n",
    "\n",
    "# 행렬의 원소 개수 확인\n",
    "print(matrix.size)\n",
    "\n",
    "# 차원의 수 확인\n",
    "print(matrix.ndim)\n",
    "\n",
    "# 데이터 타입 확인\n",
    "print(matrix.dtype)\n",
    "\n",
    "# 원소 하나가 차지하는 바이트 크기\n",
    "print(matrix.itemsize)\n",
    "\n",
    "# 배열 전체가 차지하는 바이트 크기\n",
    "print(matrix.nbytes)"
   ]
  },
  {
   "cell_type": "markdown",
   "metadata": {},
   "source": [
    "#### 1.6 벡터화 연산 적용하기"
   ]
  },
  {
   "cell_type": "code",
   "execution_count": 24,
   "metadata": {},
   "outputs": [
    {
     "data": {
      "text/plain": [
       "array([[101, 102, 103],\n",
       "       [104, 105, 106],\n",
       "       [107, 108, 109]])"
      ]
     },
     "execution_count": 24,
     "metadata": {},
     "output_type": "execute_result"
    }
   ],
   "source": [
    "# vectorize() : 함수를 벡터 전체에 적용할 수 있도록 벡터화해주는 메서드\n",
    "\n",
    "matrix = np.array([[1,2,3],\n",
    "                   [4,5,6],\n",
    "                   [7,8,9]])\n",
    "\n",
    "add_100 = lambda i : i+100\n",
    "\n",
    "# 벡터화된 함수를 만듭니다.\n",
    "vectorized_add_100 = np.vectorize(add_100)\n",
    "\n",
    "# 행렬의 모든 원소에 함수를 적용합니다.\n",
    "vectorized_add_100(matrix)"
   ]
  },
  {
   "cell_type": "code",
   "execution_count": 25,
   "metadata": {},
   "outputs": [
    {
     "data": {
      "text/plain": [
       "array([[101, 102, 103],\n",
       "       [104, 105, 106],\n",
       "       [107, 108, 109]])"
      ]
     },
     "execution_count": 25,
     "metadata": {},
     "output_type": "execute_result"
    }
   ],
   "source": [
    "# 사실 vectorize() 메서드는 단순히 for루프를 구현한 것이므로 특별한 성능의 향상이 있는 것은 아님\n",
    "# 해당 작업은 브로드캐스팅을 통해 간단히 수행 가능\n",
    "matrix + 100"
   ]
  },
  {
   "cell_type": "code",
   "execution_count": 26,
   "metadata": {},
   "outputs": [
    {
     "data": {
      "text/plain": [
       "array([[101, 102, 103],\n",
       "       [104, 105, 106],\n",
       "       [107, 108, 109]])"
      ]
     },
     "execution_count": 26,
     "metadata": {},
     "output_type": "execute_result"
    }
   ],
   "source": [
    "# (3,3) 행렬에 (3,) 크기 벡터를 더하면 (1,3)크기가 된 다음 행을 따라 반복 (첫번째 행에만 적용되는 것이 아님)\n",
    "matrix + [100,100,100]"
   ]
  },
  {
   "cell_type": "code",
   "execution_count": 27,
   "metadata": {},
   "outputs": [
    {
     "data": {
      "text/plain": [
       "array([[101, 102, 103],\n",
       "       [104, 105, 106],\n",
       "       [107, 108, 109]])"
      ]
     },
     "execution_count": 27,
     "metadata": {},
     "output_type": "execute_result"
    }
   ],
   "source": [
    "# (3,1)크기 벡터를 더해도 마찬가지\n",
    "matrix + [[100], [100], [100]]"
   ]
  },
  {
   "cell_type": "markdown",
   "metadata": {},
   "source": [
    "#### 1.7 최댓값, 최솟값 찾기"
   ]
  },
  {
   "cell_type": "code",
   "execution_count": 28,
   "metadata": {},
   "outputs": [
    {
     "name": "stdout",
     "output_type": "stream",
     "text": [
      "9\n",
      "9\n",
      "1\n",
      "1\n"
     ]
    }
   ],
   "source": [
    "matrix = np.array([[1,2,3],\n",
    "                   [4,5,6],\n",
    "                   [7,8,9]])\n",
    "\n",
    "# 최댓값/최솟값을 반환하는 두가지 방법\n",
    "print(np.max(matrix))\n",
    "print(matrix.max())\n",
    "\n",
    "print(np.min(matrix))\n",
    "print(matrix.min())"
   ]
  },
  {
   "cell_type": "code",
   "execution_count": 29,
   "metadata": {},
   "outputs": [
    {
     "name": "stdout",
     "output_type": "stream",
     "text": [
      "[7 8 9]\n",
      "[3 6 9]\n"
     ]
    }
   ],
   "source": [
    "# 각 열에서 최댓값 찾기\n",
    "print(np.max(matrix, axis=0))\n",
    "\n",
    "# 각 행에서 최댓값 찾기\n",
    "print(np.max(matrix, axis=1))"
   ]
  },
  {
   "cell_type": "code",
   "execution_count": 30,
   "metadata": {},
   "outputs": [
    {
     "data": {
      "text/plain": [
       "array([[-2, -1,  0],\n",
       "       [-2, -1,  0],\n",
       "       [-2, -1,  0]])"
      ]
     },
     "execution_count": 30,
     "metadata": {},
     "output_type": "execute_result"
    }
   ],
   "source": [
    "# 매개변수 'keepdims=True'를 지정하면 원본 배열을 차원과 동일한 모양으로 반환\n",
    "vector_column = np.max(matrix, axis=1, keepdims=True)\n",
    "matrix - vector_column"
   ]
  },
  {
   "cell_type": "markdown",
   "metadata": {},
   "source": [
    "#### 1.8 평균, 분산, 표준편차 계산하기"
   ]
  },
  {
   "cell_type": "code",
   "execution_count": 31,
   "metadata": {},
   "outputs": [
    {
     "name": "stdout",
     "output_type": "stream",
     "text": [
      "5.0\n",
      "6.666666666666667\n",
      "2.581988897471611\n"
     ]
    }
   ],
   "source": [
    "matrix = np.array([[1,2,3],\n",
    "                   [4,5,6],\n",
    "                   [7,8,9]])\n",
    "\n",
    "# 평균값 계산\n",
    "print(np.mean(matrix))\n",
    "\n",
    "# 분산값 계산\n",
    "print(np.var(matrix))\n",
    "\n",
    "# 표준편차값 계산\n",
    "print(np.std(matrix))"
   ]
  },
  {
   "cell_type": "code",
   "execution_count": 32,
   "metadata": {},
   "outputs": [
    {
     "data": {
      "text/plain": [
       "array([[2.],\n",
       "       [5.],\n",
       "       [8.]])"
      ]
     },
     "execution_count": 32,
     "metadata": {},
     "output_type": "execute_result"
    }
   ],
   "source": [
    "# 매개인자로 axis 를 전달하면 동일하게 행/열 단위 기초통계량 계산 가능\n",
    "np.mean(matrix, axis=1, keepdims=True)"
   ]
  },
  {
   "cell_type": "code",
   "execution_count": 33,
   "metadata": {},
   "outputs": [
    {
     "data": {
      "text/plain": [
       "2.7386127875258306"
      ]
     },
     "execution_count": 33,
     "metadata": {},
     "output_type": "execute_result"
    }
   ],
   "source": [
    "# 통계학에서 샘플을 추출할 때 자유도를 고려하여 모집단의 수(N)에서 1을 뺀 값으로 샘플의 수(n)를 결정\n",
    "# 매개변수로 'ddof = 1'을 전달하면 해당 작업을 알아서 수행\n",
    "\n",
    "np.std(matrix, ddof=1)"
   ]
  },
  {
   "cell_type": "code",
   "execution_count": 34,
   "metadata": {},
   "outputs": [
    {
     "data": {
      "text/plain": [
       "0    2.738613\n",
       "dtype: float64"
      ]
     },
     "execution_count": 34,
     "metadata": {},
     "output_type": "execute_result"
    }
   ],
   "source": [
    "import pandas as pd\n",
    "df = pd.DataFrame(matrix.flatten())\n",
    "df.std()"
   ]
  },
  {
   "cell_type": "markdown",
   "metadata": {},
   "source": [
    "넘파이에서는 'ddof = 0'이 디폴트이지만 판다스의 데이터프레임에서는 'ddof = 1'이 디폴트임에 주의"
   ]
  },
  {
   "cell_type": "markdown",
   "metadata": {},
   "source": [
    "#### 1.9 배열크기 바꾸기"
   ]
  },
  {
   "cell_type": "code",
   "execution_count": 35,
   "metadata": {},
   "outputs": [
    {
     "data": {
      "text/plain": [
       "array([[ 1,  2,  3,  4,  5,  6],\n",
       "       [ 7,  8,  9, 10, 11, 12]])"
      ]
     },
     "execution_count": 35,
     "metadata": {},
     "output_type": "execute_result"
    }
   ],
   "source": [
    "matrix = np.array([[1,2,3],\n",
    "                   [4,5,6],\n",
    "                   [7,8,9],\n",
    "                   [10,11,12]])\n",
    "\n",
    "# 2*6 행렬로 크기를 바꿉니다.\n",
    "matrix.reshape(2,6)"
   ]
  },
  {
   "cell_type": "markdown",
   "metadata": {},
   "source": [
    "reshape() 함수는 데이터를 동일하게 유지하면서 배열의 구조를 변경, 행과 열의 수를 다르게 조직.  \n",
    "단 기존 배열과 바뀐 배열의 __원소의 개수__ 는 동일해야함"
   ]
  },
  {
   "cell_type": "code",
   "execution_count": 36,
   "metadata": {},
   "outputs": [
    {
     "data": {
      "text/plain": [
       "12"
      ]
     },
     "execution_count": 36,
     "metadata": {},
     "output_type": "execute_result"
    }
   ],
   "source": [
    "# size로 원소의 수 확인\n",
    "matrix.size"
   ]
  },
  {
   "cell_type": "code",
   "execution_count": 37,
   "metadata": {},
   "outputs": [
    {
     "data": {
      "text/plain": [
       "array([[ 1,  2,  3,  4,  5,  6,  7,  8,  9, 10, 11, 12]])"
      ]
     },
     "execution_count": 37,
     "metadata": {},
     "output_type": "execute_result"
    }
   ],
   "source": [
    "# reshape의 매개변수 -1은 가능한 많이라는 뜻.\n",
    "\n",
    "# 열의 개수를 가능한 많이 반환할 것\n",
    "matrix.reshape(1, -1)"
   ]
  },
  {
   "cell_type": "code",
   "execution_count": 38,
   "metadata": {},
   "outputs": [
    {
     "name": "stdout",
     "output_type": "stream",
     "text": [
      "[ 1  2  3  4  5  6  7  8  9 10 11 12]\n",
      "[ 1  2  3  4  5  6  7  8  9 10 11 12]\n",
      "[ 1  2  3  4  5  6  7  8  9 10 11 12]\n"
     ]
    }
   ],
   "source": [
    "# 정수 하나만 매개변수로 입력하면 1차원 배열 반환\n",
    "print(matrix.reshape(12))\n",
    "\n",
    "# -1만 전달하면 무조건 1차원 배열\n",
    "print(matrix.reshape(-1))\n",
    "\n",
    "# ravel() 메서드 = -1을 전달한 reshape() 메서드\n",
    "print(matrix.ravel())"
   ]
  },
  {
   "cell_type": "markdown",
   "metadata": {},
   "source": [
    "#### 1.10 벡터나 행렬 전치하기"
   ]
  },
  {
   "cell_type": "code",
   "execution_count": 39,
   "metadata": {},
   "outputs": [
    {
     "data": {
      "text/plain": [
       "array([[1, 4, 7],\n",
       "       [2, 5, 8],\n",
       "       [3, 6, 9]])"
      ]
     },
     "execution_count": 39,
     "metadata": {},
     "output_type": "execute_result"
    }
   ],
   "source": [
    "matrix = np.array([[1,2,3],\n",
    "                   [4,5,6],\n",
    "                   [7,8,9]])\n",
    "\n",
    "# T 메서드로 전치가능\n",
    "matrix.T"
   ]
  },
  {
   "cell_type": "code",
   "execution_count": 40,
   "metadata": {},
   "outputs": [
    {
     "name": "stdout",
     "output_type": "stream",
     "text": [
      "[1 2 3 4 5 6]\n",
      "[[1]\n",
      " [2]\n",
      " [3]\n",
      " [4]\n",
      " [5]\n",
      " [6]]\n"
     ]
    }
   ],
   "source": [
    "# 다만 선형대수학과 달리 파이썬의 특성상 벡터(array)는 전치 불가능\n",
    "print(np.array([1,2,3,4,5,6]).T)\n",
    "\n",
    "# 행벡터의 전치가 필요하면 2차원 배열로 만들어서 전치\n",
    "print(np.array([[1,2,3,4,5,6]]).T)"
   ]
  },
  {
   "cell_type": "code",
   "execution_count": 41,
   "metadata": {},
   "outputs": [
    {
     "name": "stdout",
     "output_type": "stream",
     "text": [
      "[[1 4 7]\n",
      " [2 5 8]\n",
      " [3 6 9]] \n",
      "\n",
      "[1 2 3 4 5 6] \n",
      "\n",
      "[[[ 1  3  5]\n",
      "  [ 2  4  6]]\n",
      "\n",
      " [[ 7  9 11]\n",
      "  [ 8 10 12]]]\n"
     ]
    }
   ],
   "source": [
    "# transpose 메서드도 동일한 기능 수행\n",
    "print(matrix.transpose(), '\\n')\n",
    "\n",
    "# 물론 transpose 메서드로도 1차원 행벡터를 1차원 열벡터로 바꾸는 것은 불가능\n",
    "print(np.array([1,2,3,4,5,6]).transpose(), '\\n')\n",
    "\n",
    "# transpose() 메서드는 튜플로 바꿀 차원을 직접 지정할 수도 있음\n",
    "matrix = np.array([[[1,2],\n",
    "                    [3,4],\n",
    "                    [5,6]],\n",
    "                  \n",
    "                   [[7,8],\n",
    "                    [9,10],\n",
    "                    [11,12]]])\n",
    "\n",
    "print(matrix.transpose((0,2,1)))"
   ]
  },
  {
   "cell_type": "markdown",
   "metadata": {},
   "source": [
    "#### 1.11 행렬 펼치기"
   ]
  },
  {
   "cell_type": "code",
   "execution_count": 42,
   "metadata": {},
   "outputs": [
    {
     "name": "stdout",
     "output_type": "stream",
     "text": [
      "[1 2 3 4 5 6 7 8 9]\n",
      "[[1 2 3 4 5 6 7 8 9]]\n"
     ]
    }
   ],
   "source": [
    "matrix = np.array([[1,2,3],\n",
    "                   [4,5,6],\n",
    "                   [7,8,9]])\n",
    "\n",
    "# 행렬을 1차원 배열로 변환합니다.\n",
    "print(matrix.flatten())\n",
    "\n",
    "# flatten() 메서드가 1차원 배열이라면 reshape는 행벡터\n",
    "print(matrix.reshape(1,-1))"
   ]
  },
  {
   "cell_type": "code",
   "execution_count": 43,
   "metadata": {},
   "outputs": [
    {
     "name": "stdout",
     "output_type": "stream",
     "text": [
      "[-1  2  3  4  5  6  7  8  9]\n",
      "[1 2 3 4 5 6 7 8 9]\n"
     ]
    }
   ],
   "source": [
    "# reshape() 메서드는 넘파이 배열 참조, flatten() 메서드는 복사\n",
    "\n",
    "vector_reshaped = matrix.reshape(-1)\n",
    "vector_flattened = matrix.flatten()\n",
    "\n",
    "matrix[0][0] = -1\n",
    "\n",
    "print(vector_reshaped)\n",
    "print(vector_flattened)"
   ]
  },
  {
   "cell_type": "markdown",
   "metadata": {},
   "source": [
    "#### 1.12 행렬의 랭크 구하기\n",
    "\n",
    "__랭크__ : 선형 독립적인 행 혹은 열의 개수"
   ]
  },
  {
   "cell_type": "code",
   "execution_count": 44,
   "metadata": {},
   "outputs": [
    {
     "data": {
      "text/plain": [
       "2"
      ]
     },
     "execution_count": 44,
     "metadata": {},
     "output_type": "execute_result"
    }
   ],
   "source": [
    "matrix = np.array([[1,1,1],\n",
    "                   [1,1,10],\n",
    "                   [1,1,15]])\n",
    "\n",
    "np.linalg.matrix_rank(matrix)"
   ]
  },
  {
   "cell_type": "markdown",
   "metadata": {},
   "source": [
    "matrix_rank 함수는 특잇값 분해(SVD) 방식으로 랭크를 게싼. linalg 모듈의 svd함수로 특잇값을 구한 다음 0이 아닌 값 수를 헤아림"
   ]
  },
  {
   "cell_type": "code",
   "execution_count": 45,
   "metadata": {},
   "outputs": [
    {
     "data": {
      "text/plain": [
       "2"
      ]
     },
     "execution_count": 45,
     "metadata": {},
     "output_type": "execute_result"
    }
   ],
   "source": [
    "s = np.linalg.svd(matrix, compute_uv = False)\n",
    "# 오차를 고려하여 0에 가까운 아주 작은 값을 지정\n",
    "np.sum(s > 1e-10)"
   ]
  },
  {
   "cell_type": "markdown",
   "metadata": {},
   "source": [
    "#### 1.13 행렬식(determinant) 계산하기\n",
    "\n",
    "A = [[a,b], [c,d]] 일때\n",
    "det(A) = ad-bc\n",
    "\n",
    "B = [[a,b,c], [d,e,f], [g,h,i]] 일때  \n",
    "det(B) = aei + cfg + cdi - ceg - bdi - ahf"
   ]
  },
  {
   "cell_type": "code",
   "execution_count": 46,
   "metadata": {},
   "outputs": [
    {
     "data": {
      "text/plain": [
       "0.0"
      ]
     },
     "execution_count": 46,
     "metadata": {},
     "output_type": "execute_result"
    }
   ],
   "source": [
    "matrix = np.array([[1,2,3],\n",
    "                   [2,4,6],\n",
    "                   [3,8,9]])\n",
    "\n",
    "np.linalg.det(matrix)"
   ]
  },
  {
   "cell_type": "markdown",
   "metadata": {},
   "source": [
    "#### 1.14 행렬의 대각원소 추출하기"
   ]
  },
  {
   "cell_type": "code",
   "execution_count": 47,
   "metadata": {},
   "outputs": [
    {
     "data": {
      "text/plain": [
       "array([1, 4, 9])"
      ]
     },
     "execution_count": 47,
     "metadata": {},
     "output_type": "execute_result"
    }
   ],
   "source": [
    "# diagonal()메서드 : 주대각선의 대각원소를 반환\n",
    "matrix.diagonal()"
   ]
  },
  {
   "cell_type": "code",
   "execution_count": 49,
   "metadata": {},
   "outputs": [
    {
     "name": "stdout",
     "output_type": "stream",
     "text": [
      "[2 6]\n",
      "[2 8]\n"
     ]
    }
   ],
   "source": [
    "# offset 매개변수로 주대각 원소를 벗어난 대각원소를 구할 수 있음\n",
    "\n",
    "# 주대각선의 하나 위 대각선\n",
    "print(matrix.diagonal(offset = 1))\n",
    "# 주대각선의 하나 밑 대각선\n",
    "print(matrix.diagonal(offset = -1))"
   ]
  },
  {
   "cell_type": "code",
   "execution_count": 54,
   "metadata": {},
   "outputs": [
    {
     "ename": "ValueError",
     "evalue": "assignment destination is read-only",
     "output_type": "error",
     "traceback": [
      "\u001b[1;31m---------------------------------------------------------------------------\u001b[0m",
      "\u001b[1;31mValueError\u001b[0m                                Traceback (most recent call last)",
      "\u001b[1;32m<ipython-input-54-019a5378bf20>\u001b[0m in \u001b[0;36m<module>\u001b[1;34m\u001b[0m\n\u001b[0;32m      1\u001b[0m \u001b[1;31m# 반환된 배열의 원소를 바꾸고 싶으면 copy() 메서드를 활용해야함\u001b[0m\u001b[1;33m\u001b[0m\u001b[1;33m\u001b[0m\u001b[1;33m\u001b[0m\u001b[0m\n\u001b[0;32m      2\u001b[0m \u001b[0ma\u001b[0m \u001b[1;33m=\u001b[0m \u001b[0mmatrix\u001b[0m\u001b[1;33m.\u001b[0m\u001b[0mdiagonal\u001b[0m\u001b[1;33m(\u001b[0m\u001b[1;33m)\u001b[0m\u001b[1;33m\u001b[0m\u001b[1;33m\u001b[0m\u001b[0m\n\u001b[1;32m----> 3\u001b[1;33m \u001b[0ma\u001b[0m\u001b[1;33m[\u001b[0m\u001b[1;36m2\u001b[0m\u001b[1;33m]\u001b[0m \u001b[1;33m=\u001b[0m \u001b[1;36m3\u001b[0m\u001b[1;33m\u001b[0m\u001b[1;33m\u001b[0m\u001b[0m\n\u001b[0m",
      "\u001b[1;31mValueError\u001b[0m: assignment destination is read-only"
     ]
    }
   ],
   "source": [
    "# 반환된 배열의 원소를 바꾸고 싶으면 copy() 메서드를 활용해야함\n",
    "a = matrix.diagonal()\n",
    "a[2] = 3"
   ]
  },
  {
   "cell_type": "code",
   "execution_count": 55,
   "metadata": {},
   "outputs": [
    {
     "data": {
      "text/plain": [
       "array([1, 4, 3])"
      ]
     },
     "execution_count": 55,
     "metadata": {},
     "output_type": "execute_result"
    }
   ],
   "source": [
    "b = matrix.diagonal().copy()\n",
    "b[2] = 3\n",
    "b"
   ]
  },
  {
   "cell_type": "code",
   "execution_count": 60,
   "metadata": {},
   "outputs": [
    {
     "name": "stdout",
     "output_type": "stream",
     "text": [
      "[1 4 9]\n",
      "[[1 0 0]\n",
      " [0 4 0]\n",
      " [0 0 9]]\n"
     ]
    }
   ],
   "source": [
    "# diag() 메서드도 동일한 기능을 수행. 추가적으로 1차원 배열이 주어지면 대각행렬을 반환\n",
    "\n",
    "a = np.diag(matrix)\n",
    "print(a)\n",
    "\n",
    "print(np.diag(a))"
   ]
  },
  {
   "cell_type": "markdown",
   "metadata": {},
   "source": [
    "#### 1.15 행렬의 대각합 계산하기"
   ]
  },
  {
   "cell_type": "code",
   "execution_count": 66,
   "metadata": {},
   "outputs": [
    {
     "name": "stdout",
     "output_type": "stream",
     "text": [
      "14\n"
     ]
    },
    {
     "data": {
      "text/plain": [
       "14"
      ]
     },
     "execution_count": 66,
     "metadata": {},
     "output_type": "execute_result"
    }
   ],
   "source": [
    "matrix = np.array([[1,2,3],\n",
    "                   [2,4,6],\n",
    "                   [3,8,9]])\n",
    "\n",
    "# trace() : 행렬 대각선의 합을 반환하는 메서드\n",
    "print(matrix.trace())\n",
    "\n",
    "# 대각원소를 구하는 메서드 diag()로도 구할 수 있음\n",
    "np.diag(matrix).sum()"
   ]
  },
  {
   "cell_type": "code",
   "execution_count": 67,
   "metadata": {},
   "outputs": [
    {
     "name": "stdout",
     "output_type": "stream",
     "text": [
      "8\n",
      "10\n"
     ]
    }
   ],
   "source": [
    "# offset 매개변수 지원(주 대각선 위 아래의 대각선의 합)\n",
    "\n",
    "print(matrix.trace(offset = 1))\n",
    "print(matrix.trace(offset = -1))"
   ]
  },
  {
   "cell_type": "markdown",
   "metadata": {},
   "source": [
    "#### 1.16 고윳값과 고유벡터 찾기\n",
    "\n",
    "__고유벡터(eigenvectors)__ : 행렬 A에 대해 방향은 바뀌지 않고 스케일만 바뀌는 벡터"
   ]
  },
  {
   "cell_type": "code",
   "execution_count": 75,
   "metadata": {},
   "outputs": [
    {
     "name": "stdout",
     "output_type": "stream",
     "text": [
      "Wall time: 1 ms\n",
      "[13.55075847  0.74003145 -3.29078992] \n",
      "\n",
      "[[-0.17622017 -0.96677403 -0.53373322]\n",
      " [-0.435951    0.2053623  -0.64324848]\n",
      " [-0.88254925  0.15223105  0.54896288]]\n"
     ]
    }
   ],
   "source": [
    "matrix = np.array([[1,-1,3],\n",
    "                   [1,1,6],\n",
    "                   [3,8,9]])\n",
    "\n",
    "# 고윳값과 고유벡터를 계산합니다.\n",
    "%time eigenvalues, eigenvectors = np.linalg.eig(matrix)\n",
    "\n",
    "print(eigenvalues, '\\n')\n",
    "print(eigenvectors)"
   ]
  },
  {
   "cell_type": "code",
   "execution_count": 76,
   "metadata": {},
   "outputs": [
    {
     "name": "stdout",
     "output_type": "stream",
     "text": [
      "Wall time: 0 ns\n",
      "[-3.47535395  1.84536862 12.62998534] \n",
      "\n",
      "[[-0.48107069 -0.85602522  0.18918723]\n",
      " [-0.73926367  0.51210152  0.43731139]\n",
      " [ 0.47123265 -0.07051844  0.87918538]]\n"
     ]
    }
   ],
   "source": [
    "# linalg.eigh() : 만약 행렬이 대칭행렬이라면 해당 메서드를 사용하면 더 빠른 계산 가능\n",
    "# 단, 행렬이 실제 대칭행렬인지는 판단하지 않기 때문에 대칭일 때만 사용할 것\n",
    "\n",
    "matrix = np.array([[1,-1,3],\n",
    "                   [-1,1,6],\n",
    "                   [3,6,9]])\n",
    "%time eigenvalues, eigenvectors = np.linalg.eigh(matrix)\n",
    "\n",
    "print(eigenvalues, '\\n')\n",
    "print(eigenvectors)"
   ]
  },
  {
   "cell_type": "markdown",
   "metadata": {},
   "source": [
    "#### 1.17 행렬의 점곱(dot product) 계산하기\n",
    "\n",
    "__점곱(dot product)__ : size가 같은 두 행렬에서 같은 위치에 있는 원소끼리 곱한 후 합한 값"
   ]
  },
  {
   "cell_type": "code",
   "execution_count": 79,
   "metadata": {},
   "outputs": [
    {
     "name": "stdout",
     "output_type": "stream",
     "text": [
      "32\n",
      "32\n"
     ]
    }
   ],
   "source": [
    "vector_a = np.array([1,2,3])\n",
    "vector_b = np.array([4,5,6])\n",
    "\n",
    "print(np.dot(vector_a, vector_b))\n",
    "\n",
    "# @ 연산자로 점곱 계산 가능\n",
    "print(vector_a @ vector_b)"
   ]
  },
  {
   "cell_type": "code",
   "execution_count": 80,
   "metadata": {},
   "outputs": [
    {
     "name": "stdout",
     "output_type": "stream",
     "text": [
      "32\n"
     ]
    },
    {
     "ename": "ValueError",
     "evalue": "matmul: Input operand 0 does not have enough dimensions (has 0, gufunc core with signature (n?,k),(k,m?)->(n?,m?) requires 1)",
     "output_type": "error",
     "traceback": [
      "\u001b[1;31m---------------------------------------------------------------------------\u001b[0m",
      "\u001b[1;31mValueError\u001b[0m                                Traceback (most recent call last)",
      "\u001b[1;32m<ipython-input-80-4030cb79a7e1>\u001b[0m in \u001b[0;36m<module>\u001b[1;34m\u001b[0m\n\u001b[0;32m      6\u001b[0m \u001b[1;33m\u001b[0m\u001b[0m\n\u001b[0;32m      7\u001b[0m \u001b[0mprint\u001b[0m\u001b[1;33m(\u001b[0m\u001b[0mvector_a\u001b[0m \u001b[1;33m@\u001b[0m \u001b[0mvector_b\u001b[0m\u001b[1;33m)\u001b[0m\u001b[1;33m\u001b[0m\u001b[1;33m\u001b[0m\u001b[0m\n\u001b[1;32m----> 8\u001b[1;33m \u001b[0mprint\u001b[0m\u001b[1;33m(\u001b[0m\u001b[0mvector_c\u001b[0m \u001b[1;33m@\u001b[0m \u001b[0mvector_d\u001b[0m\u001b[1;33m)\u001b[0m\u001b[1;33m\u001b[0m\u001b[1;33m\u001b[0m\u001b[0m\n\u001b[0m",
      "\u001b[1;31mValueError\u001b[0m: matmul: Input operand 0 does not have enough dimensions (has 0, gufunc core with signature (n?,k),(k,m?)->(n?,m?) requires 1)"
     ]
    }
   ],
   "source": [
    "# 사실 @ 연산자는 np.dot()가 아닌 np.matmul()함수를 나타냄\n",
    "# np.matmul() 함수는 np.dot()와 동일하나 스칼라 배열에는 적용불가\n",
    "\n",
    "vector_c = np.array(1)\n",
    "vector_d = np.array(2)\n",
    "\n",
    "print(vector_a @ vector_b)\n",
    "print(vector_c @ vector_d)"
   ]
  },
  {
   "cell_type": "markdown",
   "metadata": {},
   "source": [
    "#### 1.18 행렬 덧셈과 뺄셈"
   ]
  },
  {
   "cell_type": "code",
   "execution_count": 82,
   "metadata": {},
   "outputs": [
    {
     "name": "stdout",
     "output_type": "stream",
     "text": [
      "[[ 2  4  2]\n",
      " [ 2  4  2]\n",
      " [ 2  4 10]]\n",
      "[[ 0 -2  0]\n",
      " [ 0 -2  0]\n",
      " [ 0 -2 -6]]\n"
     ]
    }
   ],
   "source": [
    "matrix_a = np.array([[1,1,1],\n",
    "                     [1,1,1],\n",
    "                     [1,1,2]])\n",
    "\n",
    "matrix_b = np.array([[1,3,1],\n",
    "                     [1,3,1],\n",
    "                     [1,3,8]])\n",
    "\n",
    "# np.add() : 두 행렬의 합\n",
    "print(np.add(matrix_a, matrix_b))\n",
    "\n",
    "# np.subtracct() : 두 행렬의 차\n",
    "print(np.subtract(matrix_a, matrix_b))"
   ]
  },
  {
   "cell_type": "code",
   "execution_count": 83,
   "metadata": {},
   "outputs": [
    {
     "name": "stdout",
     "output_type": "stream",
     "text": [
      "[[ 2  4  2]\n",
      " [ 2  4  2]\n",
      " [ 2  4 10]]\n",
      "[[ 0 -2  0]\n",
      " [ 0 -2  0]\n",
      " [ 0 -2 -6]]\n"
     ]
    }
   ],
   "source": [
    "# 물론 그냥 연산자 +, - 를 사용해도 상관없음\n",
    "print(matrix_a + matrix_b)\n",
    "print(matrix_a - matrix_b)"
   ]
  },
  {
   "cell_type": "markdown",
   "metadata": {},
   "source": [
    "#### 1.19 행렬 곱셈"
   ]
  },
  {
   "cell_type": "code",
   "execution_count": 84,
   "metadata": {},
   "outputs": [
    {
     "data": {
      "text/plain": [
       "array([[ 3,  7],\n",
       "       [ 7, 17]])"
      ]
     },
     "execution_count": 84,
     "metadata": {},
     "output_type": "execute_result"
    }
   ],
   "source": [
    "matrix_a = np.array([[1,2],\n",
    "                     [3,4]])\n",
    "\n",
    "matrix_b = np.array([[1,3],\n",
    "                     [1,2]])\n",
    "\n",
    "np.dot(matrix_a, matrix_b)"
   ]
  },
  {
   "cell_type": "code",
   "execution_count": 85,
   "metadata": {},
   "outputs": [
    {
     "name": "stdout",
     "output_type": "stream",
     "text": [
      "[[ 3  7]\n",
      " [ 7 17]]\n",
      "[[1 6]\n",
      " [3 8]]\n"
     ]
    }
   ],
   "source": [
    "# @ 연산자를 활용하여 행렬곱을 나타낼 수 있음\n",
    "print(matrix_a @ matrix_b)\n",
    "\n",
    "# * 연산자를 활용하면 각 원소별 곱하기 가능\n",
    "print(matrix_a * matrix_b)"
   ]
  },
  {
   "cell_type": "code",
   "execution_count": 86,
   "metadata": {},
   "outputs": [],
   "source": [
    "# np.dot() 함수는 다차원 배열에도 적용 가능"
   ]
  },
  {
   "cell_type": "markdown",
   "metadata": {},
   "source": [
    "#### 1.20 역행렬"
   ]
  },
  {
   "cell_type": "code",
   "execution_count": 87,
   "metadata": {},
   "outputs": [
    {
     "data": {
      "text/plain": [
       "array([[-1.66666667,  1.33333333],\n",
       "       [ 0.66666667, -0.33333333]])"
      ]
     },
     "execution_count": 87,
     "metadata": {},
     "output_type": "execute_result"
    }
   ],
   "source": [
    "matrix = np.array([[1,4],\n",
    "                   [2,5]])\n",
    "\n",
    "# linalg.inv() : 역행렬 계산 메서드\n",
    "np.linalg.inv(matrix)"
   ]
  },
  {
   "cell_type": "code",
   "execution_count": 88,
   "metadata": {},
   "outputs": [
    {
     "data": {
      "text/plain": [
       "array([[1., 0.],\n",
       "       [0., 1.]])"
      ]
     },
     "execution_count": 88,
     "metadata": {},
     "output_type": "execute_result"
    }
   ],
   "source": [
    "# 행렬과 역행렬의 곱은 항상 단위행렬\n",
    "matrix @ np.linalg.inv(matrix)"
   ]
  },
  {
   "cell_type": "code",
   "execution_count": 91,
   "metadata": {},
   "outputs": [
    {
     "name": "stdout",
     "output_type": "stream",
     "text": [
      "[[-0.59813084  0.57009346]\n",
      " [-0.40186916  0.42990654]\n",
      " [ 0.45794393 -0.3271028 ]]\n",
      "[[1.00000000e+00 2.22044605e-15]\n",
      " [0.00000000e+00 1.00000000e+00]]\n"
     ]
    }
   ],
   "source": [
    "# linalg.pinv() 함수를 사용하면 정방행렬이 아닌 행렬의 역행렬(유사 역행렬) 계산가능\n",
    "\n",
    "matrix = np.array([[1,4,7],\n",
    "                   [2,5,7]])\n",
    "\n",
    "print(np.linalg.pinv(matrix))\n",
    "\n",
    "print(matrix @ np.linalg.pinv(matrix))"
   ]
  },
  {
   "cell_type": "markdown",
   "metadata": {},
   "source": [
    "#### 1.21 난수 생성하기"
   ]
  },
  {
   "cell_type": "code",
   "execution_count": 100,
   "metadata": {},
   "outputs": [
    {
     "data": {
      "text/plain": [
       "array([0.5488135 , 0.71518937, 0.60276338])"
      ]
     },
     "execution_count": 100,
     "metadata": {},
     "output_type": "execute_result"
    }
   ],
   "source": [
    "# 초깃값 설정 : 난수의 초깃값을 성정하면 코드실행마다 계속 같은 난수가 생성.\n",
    "np.random.seed(0)\n",
    "\n",
    "# 0과 1사이에서 세개의 실수 난수를 생성합니다.\n",
    "np.random.random(3)"
   ]
  },
  {
   "cell_type": "code",
   "execution_count": 109,
   "metadata": {},
   "outputs": [
    {
     "name": "stdout",
     "output_type": "stream",
     "text": [
      "[5 5 6]\n",
      "[0 0 0 0 0 0 0 0 0 0]\n"
     ]
    }
   ],
   "source": [
    "# np.random.randint() : 정수 난수 생성 메서드\n",
    "\n",
    "# 0부터 11사이에서 3개의 정수 난수 생성\n",
    "print(np.random.randint(0,11,3))\n",
    "\n",
    "# 이때 randint()는 최솟값은 포함하고 최댓값은 포함하지 않음\n",
    "print(np.random.randint(0,1,10))"
   ]
  },
  {
   "cell_type": "code",
   "execution_count": 97,
   "metadata": {},
   "outputs": [
    {
     "name": "stdout",
     "output_type": "stream",
     "text": [
      "[ 1.62715982 -0.44423283 -0.34518616]\n",
      "[-0.73480583 -1.7371534  -1.25218931]\n",
      "[0.38648898 0.90259848 0.44994999]\n"
     ]
    }
   ],
   "source": [
    "# 설정한 분포에서 난수 생성\n",
    "\n",
    "# np.random.normal() : 정규분포에서 난수 생성\n",
    "print(np.random.normal(0,1,3))\n",
    "\n",
    "# np.random.logistic() : 로지스틱분포에서 난수 생성\n",
    "print(np.random.logistic(0,1,3))\n",
    "\n",
    "# np.random.uniform() : 균일분포에서 난수생성 (정해진 범위에서 아무거나 3개 뽑음)\n",
    "print(np.random.uniform(0,1,3))"
   ]
  },
  {
   "cell_type": "code",
   "execution_count": 107,
   "metadata": {},
   "outputs": [
    {
     "name": "stdout",
     "output_type": "stream",
     "text": [
      "[[0.80091075 0.52047748 0.67887953]\n",
      " [0.72063265 0.58201979 0.53737323]]\n",
      "[[0.75861562 0.10590761 0.47360042]\n",
      " [0.18633234 0.73691818 0.21655035]]\n"
     ]
    }
   ],
   "source": [
    "# np.random.random_sample() : 0과 1사이에서 실수 난수 생성, 인자로 (n,m) 튜플을 전달하면 n행 m열개의 난수생성\n",
    "print(np.random.random_sample((2,3)))\n",
    "\n",
    "# np.random.rand() : np.random.random_sample()과 동일하나 매개 변수로 튜플이 아닌 그냥 n,m을 전달\n",
    "print(np.random.rand(2,3))"
   ]
  },
  {
   "cell_type": "code",
   "execution_count": 115,
   "metadata": {},
   "outputs": [
    {
     "name": "stdout",
     "output_type": "stream",
     "text": [
      "[0 0 0 0 0 2 0 2 1 1]\n",
      "[6 1 2 6 2 4 1 6 7 1]\n"
     ]
    }
   ],
   "source": [
    "# np.random.choie() : 배열의 원소 중에서 랜덤하게 지정된 횟수만큼 샘플을 만듦\n",
    "print(np.random.choice([0,1,2], 10))\n",
    "\n",
    "a = [1,2,3,4,5,6,7]\n",
    "print(np.random.choice(a, 10))"
   ]
  },
  {
   "cell_type": "code",
   "execution_count": 120,
   "metadata": {},
   "outputs": [
    {
     "name": "stdout",
     "output_type": "stream",
     "text": [
      "[1, 6, 7, 4, 3, 2, 5]\n",
      "[1 6 4 7 5 2 3]\n",
      "[1, 2, 3, 4, 5, 6, 7]\n"
     ]
    }
   ],
   "source": [
    "# np.random.shuffle() : 입력된 배열을 섞음 (본 행렬이 바뀜)\n",
    "a = [1,2,3,4,5,6,7]\n",
    "b = [1,2,3,4,5,6,7]\n",
    "np.random.shuffle(a)\n",
    "print(a)\n",
    "\n",
    "# np.random.permutation() : 입력된 배열의 복사본을 만들어 섞은 후 반환 (본 행렬은 바뀌지 않음)\n",
    "permutation_b = np.random.permutation(b)\n",
    "print(permutation_b)\n",
    "print(b)"
   ]
  },
  {
   "cell_type": "code",
   "execution_count": null,
   "metadata": {},
   "outputs": [],
   "source": []
  }
 ],
 "metadata": {
  "kernelspec": {
   "display_name": "Python 3",
   "language": "python",
   "name": "python3"
  },
  "language_info": {
   "codemirror_mode": {
    "name": "ipython",
    "version": 3
   },
   "file_extension": ".py",
   "mimetype": "text/x-python",
   "name": "python",
   "nbconvert_exporter": "python",
   "pygments_lexer": "ipython3",
   "version": "3.7.3"
  }
 },
 "nbformat": 4,
 "nbformat_minor": 4
}
