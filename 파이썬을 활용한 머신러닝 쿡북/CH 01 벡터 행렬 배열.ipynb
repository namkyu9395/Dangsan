{
 "cells": [
  {
   "cell_type": "markdown",
   "metadata": {},
   "source": [
    "#### 1.1 벡터만들기"
   ]
  },
  {
   "cell_type": "code",
   "execution_count": 2,
   "metadata": {},
   "outputs": [],
   "source": [
    "# 라이브러리 임포트\n",
    "import numpy as np"
   ]
  },
  {
   "cell_type": "code",
   "execution_count": 3,
   "metadata": {},
   "outputs": [
    {
     "name": "stdout",
     "output_type": "stream",
     "text": [
      "[1 2 3]\n",
      "[[1]\n",
      " [2]\n",
      " [3]]\n"
     ]
    }
   ],
   "source": [
    "# 행이 하나인 벡터 만들기\n",
    "vector_row = np.array([1,2,3])\n",
    "print(vector_row)\n",
    "\n",
    "# 열이 하나인 벡터 만들기\n",
    "vector_columns = np.array([[1],\n",
    "                           [2],\n",
    "                           [3]])\n",
    "print(vector_columns)"
   ]
  },
  {
   "cell_type": "code",
   "execution_count": 4,
   "metadata": {},
   "outputs": [
    {
     "name": "stdout",
     "output_type": "stream",
     "text": [
      "<class 'numpy.ndarray'>\n"
     ]
    }
   ],
   "source": [
    "# 넘파이 배열은 ndarray클래스의 객체\n",
    "print(type(vector_row))"
   ]
  },
  {
   "cell_type": "code",
   "execution_count": 5,
   "metadata": {},
   "outputs": [
    {
     "data": {
      "text/plain": [
       "array([0., 0., 0.])"
      ]
     },
     "execution_count": 5,
     "metadata": {},
     "output_type": "execute_result"
    }
   ],
   "source": [
    "# ndarray 클래스 첫번째 매개변쉐 배열크기를 정수 튜플로 지정하여 넘파이를 만들 수는 있으나 권장되지 않음\n",
    "bad_way = np.ndarray((3,))\n",
    "bad_way"
   ]
  },
  {
   "cell_type": "code",
   "execution_count": 6,
   "metadata": {},
   "outputs": [
    {
     "data": {
      "text/plain": [
       "True"
      ]
     },
     "execution_count": 6,
     "metadata": {},
     "output_type": "execute_result"
    }
   ],
   "source": [
    "# asarray() : 복사본 반환\n",
    "new_row = np.asarray(vector_row)\n",
    "new_row is vector_row"
   ]
  },
  {
   "cell_type": "code",
   "execution_count": 7,
   "metadata": {},
   "outputs": [
    {
     "data": {
      "text/plain": [
       "False"
      ]
     },
     "execution_count": 7,
     "metadata": {},
     "output_type": "execute_result"
    }
   ],
   "source": [
    "new_row = np.array(vector_row)\n",
    "new_row is vector_row"
   ]
  },
  {
   "cell_type": "markdown",
   "metadata": {},
   "source": [
    "배열을 만드는 방식은\n",
    "1. np.array()로 만들기 : 참조본\n",
    "2. np.asarray()로 만들기 : 복사본 -> .copy()와 유사\n",
    "3. np.ndarray(())로 만들기 : 비추천  \n",
    "이 있음"
   ]
  },
  {
   "cell_type": "markdown",
   "metadata": {},
   "source": [
    "#### 1.2 행렬만들기"
   ]
  },
  {
   "cell_type": "code",
   "execution_count": 9,
   "metadata": {},
   "outputs": [
    {
     "data": {
      "text/plain": [
       "array([[1, 2],\n",
       "       [1, 2],\n",
       "       [1, 2]])"
      ]
     },
     "execution_count": 9,
     "metadata": {},
     "output_type": "execute_result"
    }
   ],
   "source": [
    "# 2차원 배열 만들기\n",
    "\n",
    "matrix = np.array([[1,2],\n",
    "                   [1,2],\n",
    "                   [1,2]])\n",
    "\n",
    "matrix"
   ]
  },
  {
   "cell_type": "code",
   "execution_count": 11,
   "metadata": {},
   "outputs": [
    {
     "data": {
      "text/plain": [
       "matrix([[1, 2],\n",
       "        [1, 2],\n",
       "        [1, 2]])"
      ]
     },
     "execution_count": 11,
     "metadata": {},
     "output_type": "execute_result"
    }
   ],
   "source": [
    "# mat() : 2차원 배열에 특화된 데이터구조 행렬\n",
    "matrix_object = np.mat([[1,2],\n",
    "                        [1,2],\n",
    "                        [1,2]])\n",
    "\n",
    "matrix_object"
   ]
  },
  {
   "cell_type": "markdown",
   "metadata": {},
   "source": [
    "하지만 행렬은 자주 사용되지 않고 배열이 넘파이의 표준 데이터 구조이므로 matrix객체 대신 __2차원 array__ 를 사용하자"
   ]
  },
  {
   "cell_type": "code",
   "execution_count": 12,
   "metadata": {},
   "outputs": [
    {
     "data": {
      "text/plain": [
       "array([[0., 0.],\n",
       "       [0., 0.],\n",
       "       [0., 0.]])"
      ]
     },
     "execution_count": 12,
     "metadata": {},
     "output_type": "execute_result"
    }
   ],
   "source": [
    "# empty(()) : 초깃값이 모두 0인 2차원 array 생성, 매개인자로 크기를 전달\n",
    "\n",
    "empty_matrix = np.empty((3,2))\n",
    "empty_matrix"
   ]
  },
  {
   "cell_type": "code",
   "execution_count": 16,
   "metadata": {},
   "outputs": [
    {
     "data": {
      "text/plain": [
       "array([[0., 0.],\n",
       "       [0., 0.],\n",
       "       [0., 0.]])"
      ]
     },
     "execution_count": 16,
     "metadata": {},
     "output_type": "execute_result"
    }
   ],
   "source": [
    "# zeros(()) : empty(()) 와 동일\n",
    "zero_matrix = np.zeros((3,2))\n",
    "zero_matrix"
   ]
  },
  {
   "cell_type": "code",
   "execution_count": 18,
   "metadata": {},
   "outputs": [
    {
     "data": {
      "text/plain": [
       "array([[1., 1.],\n",
       "       [1., 1.],\n",
       "       [1., 1.]])"
      ]
     },
     "execution_count": 18,
     "metadata": {},
     "output_type": "execute_result"
    }
   ],
   "source": [
    "# ones(()) : 초깃값이 모두 1인 2차원 array 생성, 매개인자로 크기 전달\n",
    "\n",
    "one_matrix = np.ones((3,2))\n",
    "one_matrix"
   ]
  },
  {
   "cell_type": "code",
   "execution_count": 19,
   "metadata": {},
   "outputs": [
    {
     "data": {
      "text/plain": [
       "array([[7, 7],\n",
       "       [7, 7],\n",
       "       [7, 7]])"
      ]
     },
     "execution_count": 19,
     "metadata": {},
     "output_type": "execute_result"
    }
   ],
   "source": [
    "# full() : 초깃값을 모두 원하는 숫자로 채워놓은 2차원 array 생성\n",
    "seven_matrix = np.full((3,2),7)\n",
    "seven_matrix"
   ]
  },
  {
   "cell_type": "markdown",
   "metadata": {},
   "source": [
    "#### 1.3 희소행렬을 밀집배열로 만들기\n",
    "\n",
    "__희소행렬(sparse matrix)__ : 배열의 value가 대부분 0으로 이뤄져 있는 행렬  \n",
    "__밀집배열(density array)__ : 희소행렬에서 값이 있는 위치를 저장하는 방식 -> for __계산비용 절감__"
   ]
  },
  {
   "cell_type": "code",
   "execution_count": 20,
   "metadata": {},
   "outputs": [],
   "source": [
    "import numpy as np\n",
    "from scipy import sparse\n",
    "\n",
    "matrix = np.array([[0,0],\n",
    "                   [0,1],\n",
    "                   [3,0]])\n",
    "\n",
    "# CSR행렬을 만듭니다\n",
    "matrix_sparse = sparse.csr_matrix(matrix)"
   ]
  },
  {
   "cell_type": "code",
   "execution_count": 21,
   "metadata": {},
   "outputs": [
    {
     "name": "stdout",
     "output_type": "stream",
     "text": [
      "  (1, 1)\t1\n",
      "  (2, 0)\t3\n"
     ]
    }
   ],
   "source": [
    "print(matrix_sparse)"
   ]
  },
  {
   "cell_type": "code",
   "execution_count": 23,
   "metadata": {},
   "outputs": [
    {
     "name": "stdout",
     "output_type": "stream",
     "text": [
      "  (1, 1)\t1\n",
      "  (2, 0)\t3\n"
     ]
    }
   ],
   "source": [
    "matrix_large = np.array([[0,0,0,0,0,0,0,0,0,0],\n",
    "                         [0,1,0,0,0,0,0,0,0,0],\n",
    "                         [3,0,0,0,0,0,0,0,0,0]])\n",
    "                         \n",
    "matrix_sparse_large = sparse.csr_matrix(matrix_large)\n",
    "print(matrix_sparse_large)"
   ]
  },
  {
   "cell_type": "markdown",
   "metadata": {},
   "source": [
    "행렬의 크기가 클수록 CSR의 위력이 강해진다!"
   ]
  },
  {
   "cell_type": "code",
   "execution_count": 24,
   "metadata": {},
   "outputs": [
    {
     "name": "stdout",
     "output_type": "stream",
     "text": [
      "  (1, 1)\t1\n",
      "  (2, 0)\t3\n"
     ]
    }
   ],
   "source": [
    "# 밀집배열에서 희소행렬을 만드는 것도 가능\n",
    "# sparse.csr_matrix()에 매개인자로 (data, (row_index, col_index))로 구성된 튜플을 전달\n",
    "\n",
    "matrix_sparse_2 = sparse.csr_matrix(([1,3], ([1,2], [1,0])), shape=(3,10))\n",
    "print(matrix_sparse_2)"
   ]
  },
  {
   "cell_type": "code",
   "execution_count": 28,
   "metadata": {},
   "outputs": [
    {
     "name": "stdout",
     "output_type": "stream",
     "text": [
      "[[0 0 0 0 0 0 0 0 0 0]\n",
      " [0 1 0 0 0 0 0 0 0 0]\n",
      " [3 0 0 0 0 0 0 0 0 0]]\n",
      "<class 'numpy.ndarray'>\n"
     ]
    }
   ],
   "source": [
    "# toarray() 메서드로 밀집배열을 희소행렬로 변환\n",
    "print(matrix_sparse_2.toarray())\n",
    "print(type(matrix_sparse_2.toarray()))"
   ]
  },
  {
   "cell_type": "code",
   "execution_count": 27,
   "metadata": {},
   "outputs": [
    {
     "name": "stdout",
     "output_type": "stream",
     "text": [
      "[[0 0 0 0 0 0 0 0 0 0]\n",
      " [0 1 0 0 0 0 0 0 0 0]\n",
      " [3 0 0 0 0 0 0 0 0 0]]\n",
      "<class 'numpy.matrix'>\n"
     ]
    }
   ],
   "source": [
    "# todense() 메서드는 matrix객체를 반환\n",
    "print(matrix_sparse_2.todense())\n",
    "print(type(matrix_sparse_2.todense()))"
   ]
  },
  {
   "cell_type": "markdown",
   "metadata": {},
   "source": [
    "#### 1.4 원소 선택하기"
   ]
  },
  {
   "cell_type": "code",
   "execution_count": 30,
   "metadata": {},
   "outputs": [
    {
     "name": "stdout",
     "output_type": "stream",
     "text": [
      "3\n",
      "5\n"
     ]
    }
   ],
   "source": [
    "vector = np.array([1,2,3,4,5,6])\n",
    "matrix = np.array([[1,2,3],\n",
    "                   [4,5,6],\n",
    "                   [7,8,9]])\n",
    "\n",
    "# 파이썬의 인덱싱과 동일하게 첫번째 원소의 인덱스는 0\n",
    "## 벡터의 3번째 원소를 가져올 것\n",
    "print(vector[2])\n",
    "## 행렬의 2행 2열의 원소를 가져올 것\n",
    "print(matrix[1,1])"
   ]
  },
  {
   "cell_type": "code",
   "execution_count": 34,
   "metadata": {},
   "outputs": [
    {
     "name": "stdout",
     "output_type": "stream",
     "text": [
      "[1 2 3 4 5 6]\n",
      "[1 2 3]\n",
      "[4 5 6]\n",
      "6\n",
      "[[1 2 3]\n",
      " [4 5 6]]\n",
      "[[2]\n",
      " [5]\n",
      " [8]]\n"
     ]
    }
   ],
   "source": [
    "# 벡터의 모든 원소를 선택할 것\n",
    "print(vector[:])\n",
    "\n",
    "# 세번째 원소를 포함하여 그 이전의 모든 원소를 선택할 것\n",
    "print(vector[:3])\n",
    "\n",
    "# 세번째 이후의 원소를 선택할 것\n",
    "print(vector[3:])\n",
    "\n",
    "# 마지막 원소를 선택할 것\n",
    "print(vector[-1])\n",
    "\n",
    "# 1,2행을 모두 선택할 것\n",
    "print(matrix[:2,:])\n",
    "\n",
    "# 2열을 선택할 것\n",
    "print(matrix[:,1:2])"
   ]
  },
  {
   "cell_type": "code",
   "execution_count": 36,
   "metadata": {},
   "outputs": [
    {
     "data": {
      "text/plain": [
       "array([2, 7])"
      ]
     },
     "execution_count": 36,
     "metadata": {},
     "output_type": "execute_result"
    }
   ],
   "source": [
    "# 팬시 인덱싱 : 행과 열의 인덱스 리스트를 전달하여 배열의 원소 선택\n",
    "\n",
    "# 1행과 3행을 선택할 것\n",
    "matrix[[0,2]]\n",
    "\n",
    "# (0,1), (2,0) 원소를 선택할 것\n",
    "matrix[[0,2], [1,0]]"
   ]
  },
  {
   "cell_type": "code",
   "execution_count": 41,
   "metadata": {},
   "outputs": [
    {
     "name": "stdout",
     "output_type": "stream",
     "text": [
      "[[False False False]\n",
      " [False False  True]\n",
      " [ True  True  True]]\n"
     ]
    },
    {
     "data": {
      "text/plain": [
       "array([6, 7, 8, 9])"
      ]
     },
     "execution_count": 41,
     "metadata": {},
     "output_type": "execute_result"
    }
   ],
   "source": [
    "# 불린 인덱싱 : 불린을 이용하여 원소 선택\n",
    "mask = matrix > 5\n",
    "print(mask)\n",
    "\n",
    "matrix[mask]"
   ]
  },
  {
   "cell_type": "markdown",
   "metadata": {},
   "source": [
    "#### 1.5 행렬정보 확인하기"
   ]
  },
  {
   "cell_type": "code",
   "execution_count": 48,
   "metadata": {},
   "outputs": [
    {
     "name": "stdout",
     "output_type": "stream",
     "text": [
      "(3, 4)\n",
      "12\n",
      "2\n",
      "int32\n",
      "4\n",
      "48\n"
     ]
    }
   ],
   "source": [
    "matrix = np.array([[1,2,3,4],\n",
    "                   [5,6,7,8],\n",
    "                   [9,10,11,12]])\n",
    "\n",
    "# 행렬의 크기확인\n",
    "print(matrix.shape)\n",
    "\n",
    "# 행렬의 원소 개수 확인\n",
    "print(matrix.size)\n",
    "\n",
    "# 차원의 수 확인\n",
    "print(matrix.ndim)\n",
    "\n",
    "# 데이터 타입 확인\n",
    "print(matrix.dtype)\n",
    "\n",
    "# 원소 하나가 차지하는 바이트 크기\n",
    "print(matrix.itemsize)\n",
    "\n",
    "# 배열 전체가 차지하는 바이트 크기\n",
    "print(matrix.nbytes)"
   ]
  },
  {
   "cell_type": "markdown",
   "metadata": {},
   "source": [
    "#### 1.6 벡터화 연산 적용하기"
   ]
  },
  {
   "cell_type": "code",
   "execution_count": 50,
   "metadata": {},
   "outputs": [
    {
     "data": {
      "text/plain": [
       "array([[101, 102, 103],\n",
       "       [104, 105, 106],\n",
       "       [107, 108, 109]])"
      ]
     },
     "execution_count": 50,
     "metadata": {},
     "output_type": "execute_result"
    }
   ],
   "source": [
    "# vectorize() : 함수를 벡터 전체에 적용할 수 있도록 벡터화해주는 메서드\n",
    "\n",
    "matrix = np.array([[1,2,3],\n",
    "                   [4,5,6],\n",
    "                   [7,8,9]])\n",
    "\n",
    "add_100 = lambda i : i+100\n",
    "\n",
    "# 벡터화된 함수를 만듭니다.\n",
    "vectorized_add_100 = np.vectorize(add_100)\n",
    "\n",
    "# 행렬의 모든 원소에 함수를 적용합니다.\n",
    "vectorized_add_100(matrix)"
   ]
  },
  {
   "cell_type": "code",
   "execution_count": 52,
   "metadata": {},
   "outputs": [
    {
     "data": {
      "text/plain": [
       "array([[101, 102, 103],\n",
       "       [104, 105, 106],\n",
       "       [107, 108, 109]])"
      ]
     },
     "execution_count": 52,
     "metadata": {},
     "output_type": "execute_result"
    }
   ],
   "source": [
    "# 사실 vectorize() 메서드는 단순히 for루프를 구현한 것이므로 특별한 성능의 향상이 있는 것은 아님\n",
    "# 해당 작업은 브로드캐스팅을 통해 간단히 수행 가능\n",
    "matrix + 100"
   ]
  },
  {
   "cell_type": "code",
   "execution_count": 53,
   "metadata": {},
   "outputs": [
    {
     "data": {
      "text/plain": [
       "array([[101, 102, 103],\n",
       "       [104, 105, 106],\n",
       "       [107, 108, 109]])"
      ]
     },
     "execution_count": 53,
     "metadata": {},
     "output_type": "execute_result"
    }
   ],
   "source": [
    "# (3,3) 행렬에 (3,) 크기 벡터를 더하면 (1,3)크기가 된 다음 행을 따라 반복 (첫번째 행에만 적용되는 것이 아님)\n",
    "matrix + [100,100,100]"
   ]
  },
  {
   "cell_type": "code",
   "execution_count": 54,
   "metadata": {},
   "outputs": [
    {
     "data": {
      "text/plain": [
       "array([[101, 102, 103],\n",
       "       [104, 105, 106],\n",
       "       [107, 108, 109]])"
      ]
     },
     "execution_count": 54,
     "metadata": {},
     "output_type": "execute_result"
    }
   ],
   "source": [
    "# (3,1)크기 벡터를 더해도 마찬가지\n",
    "matrix + [[100], [100], [100]]"
   ]
  },
  {
   "cell_type": "markdown",
   "metadata": {},
   "source": [
    "#### 1.7 최댓값, 최솟값 찾기"
   ]
  },
  {
   "cell_type": "code",
   "execution_count": 60,
   "metadata": {},
   "outputs": [
    {
     "name": "stdout",
     "output_type": "stream",
     "text": [
      "9\n",
      "9\n",
      "1\n",
      "1\n"
     ]
    }
   ],
   "source": [
    "matrix = np.array([[1,2,3],\n",
    "                   [4,5,6],\n",
    "                   [7,8,9]])\n",
    "\n",
    "# 최댓값/최솟값을 반환하는 두가지 방법\n",
    "print(np.max(matrix))\n",
    "print(matrix.max())\n",
    "\n",
    "print(np.min(matrix))\n",
    "print(matrix.min())"
   ]
  },
  {
   "cell_type": "code",
   "execution_count": 65,
   "metadata": {},
   "outputs": [
    {
     "name": "stdout",
     "output_type": "stream",
     "text": [
      "[7 8 9]\n",
      "[3 6 9]\n"
     ]
    }
   ],
   "source": [
    "# 각 열에서 최댓값 찾기\n",
    "print(np.max(matrix, axis=0))\n",
    "\n",
    "# 각 행에서 최댓값 찾기\n",
    "print(np.max(matrix, axis=1))"
   ]
  },
  {
   "cell_type": "code",
   "execution_count": 68,
   "metadata": {},
   "outputs": [
    {
     "data": {
      "text/plain": [
       "array([[-2, -1,  0],\n",
       "       [-2, -1,  0],\n",
       "       [-2, -1,  0]])"
      ]
     },
     "execution_count": 68,
     "metadata": {},
     "output_type": "execute_result"
    }
   ],
   "source": [
    "# 매개변수 'keepdims=True'를 지정하면 원본 배열을 차원과 동일한 모양으로 반환\n",
    "vector_column = np.max(matrix, axis=1, keepdims=True)\n",
    "matrix - vector_column"
   ]
  },
  {
   "cell_type": "markdown",
   "metadata": {},
   "source": [
    "#### 1.8 평균, 분산, 표준편차 계산하기"
   ]
  },
  {
   "cell_type": "code",
   "execution_count": 71,
   "metadata": {},
   "outputs": [
    {
     "name": "stdout",
     "output_type": "stream",
     "text": [
      "5.0\n",
      "6.666666666666667\n",
      "2.581988897471611\n"
     ]
    }
   ],
   "source": [
    "matrix = np.array([[1,2,3],\n",
    "                   [4,5,6],\n",
    "                   [7,8,9]])\n",
    "\n",
    "# 평균값 계산\n",
    "print(np.mean(matrix))\n",
    "\n",
    "# 분산값 계산\n",
    "print(np.var(matrix))\n",
    "\n",
    "# 표준편차값 계산\n",
    "print(np.std(matrix))"
   ]
  },
  {
   "cell_type": "code",
   "execution_count": 75,
   "metadata": {},
   "outputs": [
    {
     "data": {
      "text/plain": [
       "array([[2.],\n",
       "       [5.],\n",
       "       [8.]])"
      ]
     },
     "execution_count": 75,
     "metadata": {},
     "output_type": "execute_result"
    }
   ],
   "source": [
    "# 매개인자로 axis 를 전달하면 동일하게 행/열 단위 기초통계량 계산 가능\n",
    "np.mean(matrix, axis=1, keepdims=True)"
   ]
  },
  {
   "cell_type": "code",
   "execution_count": 76,
   "metadata": {},
   "outputs": [
    {
     "data": {
      "text/plain": [
       "2.7386127875258306"
      ]
     },
     "execution_count": 76,
     "metadata": {},
     "output_type": "execute_result"
    }
   ],
   "source": [
    "# 통계학에서 샘플을 추출할 때 자유도를 고려하여 모집단의 수(N)에서 1을 뺀 값으로 샘플의 수(n)를 결정\n",
    "# 매개변수로 'ddof = 1'을 전달하면 해당 작업을 알아서 수행\n",
    "\n",
    "np.std(matrix, ddof=1)"
   ]
  },
  {
   "cell_type": "code",
   "execution_count": 82,
   "metadata": {},
   "outputs": [
    {
     "data": {
      "text/plain": [
       "0    2.738613\n",
       "dtype: float64"
      ]
     },
     "execution_count": 82,
     "metadata": {},
     "output_type": "execute_result"
    }
   ],
   "source": [
    "import pandas as pd\n",
    "df=pd.DataFrame(matrix.flatten())\n",
    "df.std()"
   ]
  },
  {
   "cell_type": "markdown",
   "metadata": {},
   "source": [
    "넘파이에서는 'ddof = 0'이 디폴트이지만 판다스의 데이터프레임에서는 'ddof = 1'이 디폴트임에 주의"
   ]
  },
  {
   "cell_type": "code",
   "execution_count": null,
   "metadata": {},
   "outputs": [],
   "source": []
  }
 ],
 "metadata": {
  "kernelspec": {
   "display_name": "Python 3",
   "language": "python",
   "name": "python3"
  },
  "language_info": {
   "codemirror_mode": {
    "name": "ipython",
    "version": 3
   },
   "file_extension": ".py",
   "mimetype": "text/x-python",
   "name": "python",
   "nbconvert_exporter": "python",
   "pygments_lexer": "ipython3",
   "version": "3.7.3"
  }
 },
 "nbformat": 4,
 "nbformat_minor": 4
}
